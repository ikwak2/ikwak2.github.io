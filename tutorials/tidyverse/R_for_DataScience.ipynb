{
 "cells": [
  {
   "cell_type": "markdown",
   "metadata": {},
   "source": [
    "## R for Data Science\n",
    "\n"
   ]
  },
  {
   "cell_type": "markdown",
   "metadata": {},
   "source": [
    "The contents here is based on [R for Data Science](https://r4ds.had.co.nz/). Check [chapter 3, Data Visualization](https://r4ds.had.co.nz/data-visualisation.html) and [chapter 5, Data Manipulation](https://r4ds.had.co.nz/transform.html) for more details.\n",
    "\n",
    "Here, I'd like to cover\n",
    "- [__Data Visualization__](https://r4ds.had.co.nz/data-visualisation.html) using _ggplot_\n",
    "- [__Data Manipulation__](https://r4ds.had.co.nz/transform.html) using _dplyr_ "
   ]
  },
  {
   "cell_type": "markdown",
   "metadata": {},
   "source": [
    "### Data Visualization"
   ]
  },
  {
   "cell_type": "markdown",
   "metadata": {},
   "source": [
    "First call tidyverse library"
   ]
  },
  {
   "cell_type": "code",
   "execution_count": 1,
   "metadata": {},
   "outputs": [
    {
     "name": "stderr",
     "output_type": "stream",
     "text": [
      "-- Attaching packages --------------------------------------- tidyverse 1.2.1 --\n",
      "√ ggplot2 3.2.1     √ purrr   0.3.2\n",
      "√ tibble  2.1.3     √ dplyr   0.8.3\n",
      "√ tidyr   0.8.3     √ stringr 1.4.0\n",
      "√ readr   1.3.1     √ forcats 0.4.0\n",
      "-- Conflicts ------------------------------------------ tidyverse_conflicts() --\n",
      "x dplyr::filter() masks stats::filter()\n",
      "x dplyr::lag()    masks stats::lag()\n"
     ]
    }
   ],
   "source": [
    "library(tidyverse)"
   ]
  },
  {
   "cell_type": "markdown",
   "metadata": {},
   "source": [
    "We will play with `mpg`data containing observations collected by the US Environmental Protection Agency on 38 models of car."
   ]
  },
  {
   "cell_type": "code",
   "execution_count": 2,
   "metadata": {},
   "outputs": [
    {
     "data": {
      "text/html": [
       "<table>\n",
       "<thead><tr><th scope=col>manufacturer</th><th scope=col>model</th><th scope=col>displ</th><th scope=col>year</th><th scope=col>cyl</th><th scope=col>trans</th><th scope=col>drv</th><th scope=col>cty</th><th scope=col>hwy</th><th scope=col>fl</th><th scope=col>class</th></tr></thead>\n",
       "<tbody>\n",
       "\t<tr><td>audi      </td><td>a4        </td><td>1.8       </td><td>1999      </td><td>4         </td><td>auto(l5)  </td><td>f         </td><td>18        </td><td>29        </td><td>p         </td><td>compact   </td></tr>\n",
       "\t<tr><td>audi      </td><td>a4        </td><td>1.8       </td><td>1999      </td><td>4         </td><td>manual(m5)</td><td>f         </td><td>21        </td><td>29        </td><td>p         </td><td>compact   </td></tr>\n",
       "\t<tr><td>audi      </td><td>a4        </td><td>2.0       </td><td>2008      </td><td>4         </td><td>manual(m6)</td><td>f         </td><td>20        </td><td>31        </td><td>p         </td><td>compact   </td></tr>\n",
       "\t<tr><td>audi      </td><td>a4        </td><td>2.0       </td><td>2008      </td><td>4         </td><td>auto(av)  </td><td>f         </td><td>21        </td><td>30        </td><td>p         </td><td>compact   </td></tr>\n",
       "\t<tr><td>audi      </td><td>a4        </td><td>2.8       </td><td>1999      </td><td>6         </td><td>auto(l5)  </td><td>f         </td><td>16        </td><td>26        </td><td>p         </td><td>compact   </td></tr>\n",
       "</tbody>\n",
       "</table>\n"
      ],
      "text/latex": [
       "\\begin{tabular}{r|lllllllllll}\n",
       " manufacturer & model & displ & year & cyl & trans & drv & cty & hwy & fl & class\\\\\n",
       "\\hline\n",
       "\t audi       & a4         & 1.8        & 1999       & 4          & auto(l5)   & f          & 18         & 29         & p          & compact   \\\\\n",
       "\t audi       & a4         & 1.8        & 1999       & 4          & manual(m5) & f          & 21         & 29         & p          & compact   \\\\\n",
       "\t audi       & a4         & 2.0        & 2008       & 4          & manual(m6) & f          & 20         & 31         & p          & compact   \\\\\n",
       "\t audi       & a4         & 2.0        & 2008       & 4          & auto(av)   & f          & 21         & 30         & p          & compact   \\\\\n",
       "\t audi       & a4         & 2.8        & 1999       & 6          & auto(l5)   & f          & 16         & 26         & p          & compact   \\\\\n",
       "\\end{tabular}\n"
      ],
      "text/markdown": [
       "\n",
       "| manufacturer | model | displ | year | cyl | trans | drv | cty | hwy | fl | class |\n",
       "|---|---|---|---|---|---|---|---|---|---|---|\n",
       "| audi       | a4         | 1.8        | 1999       | 4          | auto(l5)   | f          | 18         | 29         | p          | compact    |\n",
       "| audi       | a4         | 1.8        | 1999       | 4          | manual(m5) | f          | 21         | 29         | p          | compact    |\n",
       "| audi       | a4         | 2.0        | 2008       | 4          | manual(m6) | f          | 20         | 31         | p          | compact    |\n",
       "| audi       | a4         | 2.0        | 2008       | 4          | auto(av)   | f          | 21         | 30         | p          | compact    |\n",
       "| audi       | a4         | 2.8        | 1999       | 6          | auto(l5)   | f          | 16         | 26         | p          | compact    |\n",
       "\n"
      ],
      "text/plain": [
       "  manufacturer model displ year cyl trans      drv cty hwy fl class  \n",
       "1 audi         a4    1.8   1999 4   auto(l5)   f   18  29  p  compact\n",
       "2 audi         a4    1.8   1999 4   manual(m5) f   21  29  p  compact\n",
       "3 audi         a4    2.0   2008 4   manual(m6) f   20  31  p  compact\n",
       "4 audi         a4    2.0   2008 4   auto(av)   f   21  30  p  compact\n",
       "5 audi         a4    2.8   1999 6   auto(l5)   f   16  26  p  compact"
      ]
     },
     "metadata": {},
     "output_type": "display_data"
    }
   ],
   "source": [
    "mpg[1:5,]"
   ]
  },
  {
   "cell_type": "markdown",
   "metadata": {},
   "source": [
    "### Aesthetic Mappings"
   ]
  },
  {
   "cell_type": "markdown",
   "metadata": {},
   "source": [
    "\n",
    "``` r\n",
    "ggplot(data = data, mapping = aes(x = , y=, color= , size= , alpha= , shape=) )\n",
    "```"
   ]
  },
  {
   "cell_type": "markdown",
   "metadata": {},
   "source": [
    "#### x and y"
   ]
  },
  {
   "cell_type": "code",
   "execution_count": 4,
   "metadata": {},
   "outputs": [
    {
     "data": {
      "image/png": "[encoded data removed]",
      "text/plain": [
       "plot without title"
      ]
     },
     "metadata": {},
     "output_type": "display_data"
    }
   ],
   "source": [
    "ggplot(data = mpg, mapping = aes(x = displ, y = hwy) ) +\n",
    "    geom_point()"
   ]
  },
  {
   "cell_type": "markdown",
   "metadata": {},
   "source": [
    "#### color"
   ]
  },
  {
   "cell_type": "code",
   "execution_count": 5,
   "metadata": {},
   "outputs": [
    {
     "data": {
      "image/png": "[encoded data removed]",
      "text/plain": [
       "plot without title"
      ]
     },
     "metadata": {},
     "output_type": "display_data"
    }
   ],
   "source": [
    "ggplot(data = mpg, mapping = aes(x = displ, y = hwy, color = class) ) +\n",
    "    geom_point()"
   ]
  },
  {
   "cell_type": "markdown",
   "metadata": {},
   "source": [
    "#### size"
   ]
  },
  {
   "cell_type": "code",
   "execution_count": 6,
   "metadata": {},
   "outputs": [
    {
     "data": {
      "image/png": "[encoded data removed]",
      "text/plain": [
       "plot without title"
      ]
     },
     "metadata": {},
     "output_type": "display_data"
    }
   ],
   "source": [
    "ggplot(data = mpg, mapping = aes(x = displ, y = hwy, size = cyl) ) +\n",
    "    geom_point()"
   ]
  },
  {
   "cell_type": "markdown",
   "metadata": {},
   "source": [
    "#### alpha"
   ]
  },
  {
   "cell_type": "code",
   "execution_count": 7,
   "metadata": {},
   "outputs": [
    {
     "data": {
      "image/png": "[encoded data removed]",
      "text/plain": [
       "plot without title"
      ]
     },
     "metadata": {},
     "output_type": "display_data"
    }
   ],
   "source": [
    "ggplot(data = mpg, mapping = aes(x = displ, y = hwy, alpha = cyl) ) +\n",
    "    geom_point()"
   ]
  },
  {
   "cell_type": "markdown",
   "metadata": {},
   "source": [
    "#### shape"
   ]
  },
  {
   "cell_type": "code",
   "execution_count": 11,
   "metadata": {},
   "outputs": [
    {
     "data": {
      "image/png": "[encoded data removed]",
      "text/plain": [
       "plot without title"
      ]
     },
     "metadata": {},
     "output_type": "display_data"
    }
   ],
   "source": [
    "ggplot(data = mpg, mapping = aes(x = displ, y = hwy, shape = factor(cyl)) ) +\n",
    "    geom_point()"
   ]
  },
  {
   "cell_type": "markdown",
   "metadata": {},
   "source": [
    "### Facets\n",
    "\n",
    "Split your plot into facets (facet_wrap, facet_grid)\n",
    "\n",
    "- __facet_wrap__ for 1d split\n",
    "- __facet_grid__ for 2d split\n",
    "\n"
   ]
  },
  {
   "cell_type": "markdown",
   "metadata": {},
   "source": [
    "#### facet_wrap"
   ]
  },
  {
   "cell_type": "code",
   "execution_count": 12,
   "metadata": {},
   "outputs": [
    {
     "data": {
      "image/png": "[encoded data removed]",
      "text/plain": [
       "plot without title"
      ]
     },
     "metadata": {},
     "output_type": "display_data"
    }
   ],
   "source": [
    "ggplot(data = mpg, aes(x = displ, y = hwy)) + \n",
    "  geom_point() + \n",
    "  facet_wrap(~ class, nrow = 2)"
   ]
  },
  {
   "cell_type": "markdown",
   "metadata": {},
   "source": [
    "#### facet_grid"
   ]
  },
  {
   "cell_type": "code",
   "execution_count": 13,
   "metadata": {},
   "outputs": [
    {
     "data": {
      "image/png": "[encoded data removed]",
      "text/plain": [
       "plot without title"
      ]
     },
     "metadata": {},
     "output_type": "display_data"
    }
   ],
   "source": [
    "ggplot(data = mpg, aes(x = displ, y = hwy)) + \n",
    "  geom_point() + \n",
    "  facet_grid(drv ~ cyl)"
   ]
  },
  {
   "cell_type": "markdown",
   "metadata": {},
   "source": [
    "### Geometric objects"
   ]
  },
  {
   "cell_type": "markdown",
   "metadata": {},
   "source": [
    "Functions start with **geom_**\n",
    "\n",
    "- Plot geometrical objects "
   ]
  },
  {
   "cell_type": "code",
   "execution_count": 14,
   "metadata": {},
   "outputs": [
    {
     "data": {
      "image/png": "[encoded data removed]",
      "text/plain": [
       "plot without title"
      ]
     },
     "metadata": {},
     "output_type": "display_data"
    }
   ],
   "source": [
    "ggplot(data = mpg, aes(x = displ, y = hwy)) + \n",
    "  geom_point()"
   ]
  },
  {
   "cell_type": "code",
   "execution_count": 16,
   "metadata": {},
   "outputs": [
    {
     "name": "stderr",
     "output_type": "stream",
     "text": [
      "`geom_smooth()` using method = 'loess' and formula 'y ~ x'\n"
     ]
    },
    {
     "data": {
      "image/png": "[encoded data removed]",
      "text/plain": [
       "plot without title"
      ]
     },
     "metadata": {},
     "output_type": "display_data"
    }
   ],
   "source": [
    "ggplot(data = mpg, aes(x = displ, y = hwy)) + \n",
    "  geom_point() +\n",
    "  geom_smooth()"
   ]
  },
  {
   "cell_type": "markdown",
   "metadata": {},
   "source": [
    "#### geom_bar"
   ]
  },
  {
   "cell_type": "markdown",
   "metadata": {},
   "source": [
    "![geom_bar](Figs/geom_bar.png)"
   ]
  },
  {
   "cell_type": "code",
   "execution_count": 17,
   "metadata": {},
   "outputs": [
    {
     "data": {
      "image/png": "[encoded data removed]",
      "text/plain": [
       "plot without title"
      ]
     },
     "metadata": {},
     "output_type": "display_data"
    }
   ],
   "source": [
    "ggplot(data = mpg, aes(x = cyl) ) + \n",
    "  geom_bar()"
   ]
  },
  {
   "cell_type": "code",
   "execution_count": 19,
   "metadata": {},
   "outputs": [
    {
     "data": {
      "text/html": [
       "<table>\n",
       "<thead><tr><th scope=col>cut</th><th scope=col>freq</th></tr></thead>\n",
       "<tbody>\n",
       "\t<tr><td>Fair     </td><td> 1610    </td></tr>\n",
       "\t<tr><td>Good     </td><td> 4906    </td></tr>\n",
       "\t<tr><td>Very Good</td><td>12082    </td></tr>\n",
       "\t<tr><td>Premium  </td><td>13791    </td></tr>\n",
       "\t<tr><td>Ideal    </td><td>21551    </td></tr>\n",
       "</tbody>\n",
       "</table>\n"
      ],
      "text/latex": [
       "\\begin{tabular}{r|ll}\n",
       " cut & freq\\\\\n",
       "\\hline\n",
       "\t Fair      &  1610    \\\\\n",
       "\t Good      &  4906    \\\\\n",
       "\t Very Good & 12082    \\\\\n",
       "\t Premium   & 13791    \\\\\n",
       "\t Ideal     & 21551    \\\\\n",
       "\\end{tabular}\n"
      ],
      "text/markdown": [
       "\n",
       "| cut | freq |\n",
       "|---|---|\n",
       "| Fair      |  1610     |\n",
       "| Good      |  4906     |\n",
       "| Very Good | 12082     |\n",
       "| Premium   | 13791     |\n",
       "| Ideal     | 21551     |\n",
       "\n"
      ],
      "text/plain": [
       "  cut       freq \n",
       "1 Fair       1610\n",
       "2 Good       4906\n",
       "3 Very Good 12082\n",
       "4 Premium   13791\n",
       "5 Ideal     21551"
      ]
     },
     "metadata": {},
     "output_type": "display_data"
    }
   ],
   "source": [
    "demo <- tribble(\n",
    "  ~cut,         ~freq,\n",
    "  \"Fair\",       1610,\n",
    "  \"Good\",       4906,\n",
    "  \"Very Good\",  12082,\n",
    "  \"Premium\",    13791,\n",
    "  \"Ideal\",      21551\n",
    ")\n",
    "demo"
   ]
  },
  {
   "cell_type": "code",
   "execution_count": 20,
   "metadata": {},
   "outputs": [
    {
     "data": {
      "image/png": "[encoded data removed]",
      "text/plain": [
       "plot without title"
      ]
     },
     "metadata": {},
     "output_type": "display_data"
    }
   ],
   "source": [
    "ggplot(demo, aes(x = cut, y = freq)) +\n",
    "  geom_bar(stat = \"identity\")"
   ]
  },
  {
   "cell_type": "markdown",
   "metadata": {},
   "source": [
    "#### Theme"
   ]
  },
  {
   "cell_type": "code",
   "execution_count": 21,
   "metadata": {},
   "outputs": [
    {
     "data": {
      "image/png": "[encoded data removed]",
      "text/plain": [
       "plot without title"
      ]
     },
     "metadata": {},
     "output_type": "display_data"
    }
   ],
   "source": [
    "ggplot(demo, aes(x = cut, y = freq)) +\n",
    "  geom_bar(stat = \"identity\") + \n",
    "  theme_bw()"
   ]
  },
  {
   "cell_type": "code",
   "execution_count": 25,
   "metadata": {},
   "outputs": [
    {
     "data": {
      "image/png": "[encoded data removed]",
      "text/plain": [
       "plot without title"
      ]
     },
     "metadata": {},
     "output_type": "display_data"
    }
   ],
   "source": [
    "ggplot(demo, aes(x = cut, y = freq)) +\n",
    "  geom_bar(stat = \"identity\") + \n",
    "  theme_bw() + \n",
    "  theme(panel.border = element_blank(),\n",
    "        axis.line = element_line(size = .8, color = \"black\"),\n",
    "        panel.grid.minor = element_blank(),\n",
    "        text = element_text(size = 25)\n",
    "       )"
   ]
  },
  {
   "cell_type": "markdown",
   "metadata": {},
   "source": [
    "### Data manipulation"
   ]
  },
  {
   "cell_type": "markdown",
   "metadata": {},
   "source": [
    "`x %>% f(y)` turns into `f(x,y)`, and `x %>% f(y) %>% g(z)` turns into `g(f(x,y), z)`"
   ]
  },
  {
   "cell_type": "markdown",
   "metadata": {},
   "source": [
    "#### pipe operator\n",
    "\n",
    "![pipe](Figs/pipe.png)"
   ]
  },
  {
   "cell_type": "markdown",
   "metadata": {},
   "source": [
    "#### filter\n",
    "\n",
    "filtering rows"
   ]
  },
  {
   "cell_type": "code",
   "execution_count": 27,
   "metadata": {},
   "outputs": [
    {
     "data": {
      "text/html": [
       "<table>\n",
       "<thead><tr><th scope=col>manufacturer</th><th scope=col>model</th><th scope=col>displ</th><th scope=col>year</th><th scope=col>cyl</th><th scope=col>trans</th><th scope=col>drv</th><th scope=col>cty</th><th scope=col>hwy</th><th scope=col>fl</th><th scope=col>class</th></tr></thead>\n",
       "<tbody>\n",
       "\t<tr><td>audi      </td><td>a4        </td><td>1.8       </td><td>1999      </td><td>4         </td><td>auto(l5)  </td><td>f         </td><td>18        </td><td>29        </td><td>p         </td><td>compact   </td></tr>\n",
       "\t<tr><td>audi      </td><td>a4        </td><td>1.8       </td><td>1999      </td><td>4         </td><td>manual(m5)</td><td>f         </td><td>21        </td><td>29        </td><td>p         </td><td>compact   </td></tr>\n",
       "\t<tr><td>audi      </td><td>a4        </td><td>2.0       </td><td>2008      </td><td>4         </td><td>manual(m6)</td><td>f         </td><td>20        </td><td>31        </td><td>p         </td><td>compact   </td></tr>\n",
       "\t<tr><td>audi      </td><td>a4        </td><td>2.0       </td><td>2008      </td><td>4         </td><td>auto(av)  </td><td>f         </td><td>21        </td><td>30        </td><td>p         </td><td>compact   </td></tr>\n",
       "\t<tr><td>audi      </td><td>a4        </td><td>2.8       </td><td>1999      </td><td>6         </td><td>auto(l5)  </td><td>f         </td><td>16        </td><td>26        </td><td>p         </td><td>compact   </td></tr>\n",
       "\t<tr><td>audi      </td><td>a4        </td><td>2.8       </td><td>1999      </td><td>6         </td><td>manual(m5)</td><td>f         </td><td>18        </td><td>26        </td><td>p         </td><td>compact   </td></tr>\n",
       "\t<tr><td>audi      </td><td>a4        </td><td>3.1       </td><td>2008      </td><td>6         </td><td>auto(av)  </td><td>f         </td><td>18        </td><td>27        </td><td>p         </td><td>compact   </td></tr>\n",
       "\t<tr><td>audi      </td><td>a4 quattro</td><td>1.8       </td><td>1999      </td><td>4         </td><td>manual(m5)</td><td>4         </td><td>18        </td><td>26        </td><td>p         </td><td>compact   </td></tr>\n",
       "\t<tr><td>audi      </td><td>a4 quattro</td><td>1.8       </td><td>1999      </td><td>4         </td><td>auto(l5)  </td><td>4         </td><td>16        </td><td>25        </td><td>p         </td><td>compact   </td></tr>\n",
       "\t<tr><td>audi      </td><td>a4 quattro</td><td>2.0       </td><td>2008      </td><td>4         </td><td>manual(m6)</td><td>4         </td><td>20        </td><td>28        </td><td>p         </td><td>compact   </td></tr>\n",
       "</tbody>\n",
       "</table>\n"
      ],
      "text/latex": [
       "\\begin{tabular}{r|lllllllllll}\n",
       " manufacturer & model & displ & year & cyl & trans & drv & cty & hwy & fl & class\\\\\n",
       "\\hline\n",
       "\t audi       & a4         & 1.8        & 1999       & 4          & auto(l5)   & f          & 18         & 29         & p          & compact   \\\\\n",
       "\t audi       & a4         & 1.8        & 1999       & 4          & manual(m5) & f          & 21         & 29         & p          & compact   \\\\\n",
       "\t audi       & a4         & 2.0        & 2008       & 4          & manual(m6) & f          & 20         & 31         & p          & compact   \\\\\n",
       "\t audi       & a4         & 2.0        & 2008       & 4          & auto(av)   & f          & 21         & 30         & p          & compact   \\\\\n",
       "\t audi       & a4         & 2.8        & 1999       & 6          & auto(l5)   & f          & 16         & 26         & p          & compact   \\\\\n",
       "\t audi       & a4         & 2.8        & 1999       & 6          & manual(m5) & f          & 18         & 26         & p          & compact   \\\\\n",
       "\t audi       & a4         & 3.1        & 2008       & 6          & auto(av)   & f          & 18         & 27         & p          & compact   \\\\\n",
       "\t audi       & a4 quattro & 1.8        & 1999       & 4          & manual(m5) & 4          & 18         & 26         & p          & compact   \\\\\n",
       "\t audi       & a4 quattro & 1.8        & 1999       & 4          & auto(l5)   & 4          & 16         & 25         & p          & compact   \\\\\n",
       "\t audi       & a4 quattro & 2.0        & 2008       & 4          & manual(m6) & 4          & 20         & 28         & p          & compact   \\\\\n",
       "\\end{tabular}\n"
      ],
      "text/markdown": [
       "\n",
       "| manufacturer | model | displ | year | cyl | trans | drv | cty | hwy | fl | class |\n",
       "|---|---|---|---|---|---|---|---|---|---|---|\n",
       "| audi       | a4         | 1.8        | 1999       | 4          | auto(l5)   | f          | 18         | 29         | p          | compact    |\n",
       "| audi       | a4         | 1.8        | 1999       | 4          | manual(m5) | f          | 21         | 29         | p          | compact    |\n",
       "| audi       | a4         | 2.0        | 2008       | 4          | manual(m6) | f          | 20         | 31         | p          | compact    |\n",
       "| audi       | a4         | 2.0        | 2008       | 4          | auto(av)   | f          | 21         | 30         | p          | compact    |\n",
       "| audi       | a4         | 2.8        | 1999       | 6          | auto(l5)   | f          | 16         | 26         | p          | compact    |\n",
       "| audi       | a4         | 2.8        | 1999       | 6          | manual(m5) | f          | 18         | 26         | p          | compact    |\n",
       "| audi       | a4         | 3.1        | 2008       | 6          | auto(av)   | f          | 18         | 27         | p          | compact    |\n",
       "| audi       | a4 quattro | 1.8        | 1999       | 4          | manual(m5) | 4          | 18         | 26         | p          | compact    |\n",
       "| audi       | a4 quattro | 1.8        | 1999       | 4          | auto(l5)   | 4          | 16         | 25         | p          | compact    |\n",
       "| audi       | a4 quattro | 2.0        | 2008       | 4          | manual(m6) | 4          | 20         | 28         | p          | compact    |\n",
       "\n"
      ],
      "text/plain": [
       "   manufacturer model      displ year cyl trans      drv cty hwy fl class  \n",
       "1  audi         a4         1.8   1999 4   auto(l5)   f   18  29  p  compact\n",
       "2  audi         a4         1.8   1999 4   manual(m5) f   21  29  p  compact\n",
       "3  audi         a4         2.0   2008 4   manual(m6) f   20  31  p  compact\n",
       "4  audi         a4         2.0   2008 4   auto(av)   f   21  30  p  compact\n",
       "5  audi         a4         2.8   1999 6   auto(l5)   f   16  26  p  compact\n",
       "6  audi         a4         2.8   1999 6   manual(m5) f   18  26  p  compact\n",
       "7  audi         a4         3.1   2008 6   auto(av)   f   18  27  p  compact\n",
       "8  audi         a4 quattro 1.8   1999 4   manual(m5) 4   18  26  p  compact\n",
       "9  audi         a4 quattro 1.8   1999 4   auto(l5)   4   16  25  p  compact\n",
       "10 audi         a4 quattro 2.0   2008 4   manual(m6) 4   20  28  p  compact"
      ]
     },
     "metadata": {},
     "output_type": "display_data"
    }
   ],
   "source": [
    "mpg[1:10,]"
   ]
  },
  {
   "cell_type": "code",
   "execution_count": 30,
   "metadata": {},
   "outputs": [
    {
     "data": {
      "text/html": [
       "<table>\n",
       "<thead><tr><th scope=col>manufacturer</th><th scope=col>model</th><th scope=col>displ</th><th scope=col>year</th><th scope=col>cyl</th><th scope=col>trans</th><th scope=col>drv</th><th scope=col>cty</th><th scope=col>hwy</th><th scope=col>fl</th><th scope=col>class</th></tr></thead>\n",
       "<tbody>\n",
       "\t<tr><td>audi               </td><td>a4                 </td><td>1.8                </td><td>1999               </td><td>4                  </td><td>auto(l5)           </td><td>f                  </td><td>18                 </td><td>29                 </td><td>p                  </td><td>compact            </td></tr>\n",
       "\t<tr><td>audi               </td><td>a4                 </td><td>1.8                </td><td>1999               </td><td>4                  </td><td>manual(m5)         </td><td>f                  </td><td>21                 </td><td>29                 </td><td>p                  </td><td>compact            </td></tr>\n",
       "\t<tr><td>audi               </td><td>a4                 </td><td>2.8                </td><td>1999               </td><td>6                  </td><td>auto(l5)           </td><td>f                  </td><td>16                 </td><td>26                 </td><td>p                  </td><td>compact            </td></tr>\n",
       "\t<tr><td>audi               </td><td>a4                 </td><td>2.8                </td><td>1999               </td><td>6                  </td><td>manual(m5)         </td><td>f                  </td><td>18                 </td><td>26                 </td><td>p                  </td><td>compact            </td></tr>\n",
       "\t<tr><td>audi               </td><td>a4 quattro         </td><td>1.8                </td><td>1999               </td><td>4                  </td><td>manual(m5)         </td><td>4                  </td><td>18                 </td><td>26                 </td><td>p                  </td><td>compact            </td></tr>\n",
       "\t<tr><td>audi               </td><td>a4 quattro         </td><td>1.8                </td><td>1999               </td><td>4                  </td><td>auto(l5)           </td><td>4                  </td><td>16                 </td><td>25                 </td><td>p                  </td><td>compact            </td></tr>\n",
       "\t<tr><td>audi               </td><td>a4 quattro         </td><td>2.8                </td><td>1999               </td><td>6                  </td><td>auto(l5)           </td><td>4                  </td><td>15                 </td><td>25                 </td><td>p                  </td><td>compact            </td></tr>\n",
       "\t<tr><td>audi               </td><td>a4 quattro         </td><td>2.8                </td><td>1999               </td><td>6                  </td><td>manual(m5)         </td><td>4                  </td><td>17                 </td><td>25                 </td><td>p                  </td><td>compact            </td></tr>\n",
       "\t<tr><td>audi               </td><td>a6 quattro         </td><td>2.8                </td><td>1999               </td><td>6                  </td><td>auto(l5)           </td><td>4                  </td><td>15                 </td><td>24                 </td><td>p                  </td><td>midsize            </td></tr>\n",
       "\t<tr><td>chevrolet          </td><td>c1500 suburban 2wd </td><td>5.7                </td><td>1999               </td><td>8                  </td><td>auto(l4)           </td><td>r                  </td><td>13                 </td><td>17                 </td><td>r                  </td><td>suv                </td></tr>\n",
       "\t<tr><td>chevrolet          </td><td>corvette           </td><td>5.7                </td><td>1999               </td><td>8                  </td><td>manual(m6)         </td><td>r                  </td><td>16                 </td><td>26                 </td><td>p                  </td><td>2seater            </td></tr>\n",
       "\t<tr><td>chevrolet          </td><td>corvette           </td><td>5.7                </td><td>1999               </td><td>8                  </td><td>auto(l4)           </td><td>r                  </td><td>15                 </td><td>23                 </td><td>p                  </td><td>2seater            </td></tr>\n",
       "\t<tr><td>chevrolet          </td><td>k1500 tahoe 4wd    </td><td>5.7                </td><td>1999               </td><td>8                  </td><td>auto(l4)           </td><td>4                  </td><td>11                 </td><td>15                 </td><td>r                  </td><td>suv                </td></tr>\n",
       "\t<tr><td>chevrolet          </td><td>k1500 tahoe 4wd    </td><td>6.5                </td><td>1999               </td><td>8                  </td><td>auto(l4)           </td><td>4                  </td><td>14                 </td><td>17                 </td><td>d                  </td><td>suv                </td></tr>\n",
       "\t<tr><td>chevrolet          </td><td>malibu             </td><td>2.4                </td><td>1999               </td><td>4                  </td><td>auto(l4)           </td><td>f                  </td><td>19                 </td><td>27                 </td><td>r                  </td><td>midsize            </td></tr>\n",
       "\t<tr><td>chevrolet          </td><td>malibu             </td><td>3.1                </td><td>1999               </td><td>6                  </td><td>auto(l4)           </td><td>f                  </td><td>18                 </td><td>26                 </td><td>r                  </td><td>midsize            </td></tr>\n",
       "\t<tr><td>dodge              </td><td>caravan 2wd        </td><td>2.4                </td><td>1999               </td><td>4                  </td><td>auto(l3)           </td><td>f                  </td><td>18                 </td><td>24                 </td><td>r                  </td><td>minivan            </td></tr>\n",
       "\t<tr><td>dodge              </td><td>caravan 2wd        </td><td>3.0                </td><td>1999               </td><td>6                  </td><td>auto(l4)           </td><td>f                  </td><td>17                 </td><td>24                 </td><td>r                  </td><td>minivan            </td></tr>\n",
       "\t<tr><td>dodge              </td><td>caravan 2wd        </td><td>3.3                </td><td>1999               </td><td>6                  </td><td>auto(l4)           </td><td>f                  </td><td>16                 </td><td>22                 </td><td>r                  </td><td>minivan            </td></tr>\n",
       "\t<tr><td>dodge              </td><td>caravan 2wd        </td><td>3.3                </td><td>1999               </td><td>6                  </td><td>auto(l4)           </td><td>f                  </td><td>16                 </td><td>22                 </td><td>r                  </td><td>minivan            </td></tr>\n",
       "\t<tr><td>dodge              </td><td>caravan 2wd        </td><td>3.8                </td><td>1999               </td><td>6                  </td><td>auto(l4)           </td><td>f                  </td><td>15                 </td><td>22                 </td><td>r                  </td><td>minivan            </td></tr>\n",
       "\t<tr><td>dodge              </td><td>caravan 2wd        </td><td>3.8                </td><td>1999               </td><td>6                  </td><td>auto(l4)           </td><td>f                  </td><td>15                 </td><td>21                 </td><td>r                  </td><td>minivan            </td></tr>\n",
       "\t<tr><td>dodge              </td><td>dakota pickup 4wd  </td><td>3.9                </td><td>1999               </td><td>6                  </td><td>auto(l4)           </td><td>4                  </td><td>13                 </td><td>17                 </td><td>r                  </td><td>pickup             </td></tr>\n",
       "\t<tr><td>dodge              </td><td>dakota pickup 4wd  </td><td>3.9                </td><td>1999               </td><td>6                  </td><td>manual(m5)         </td><td>4                  </td><td>14                 </td><td>17                 </td><td>r                  </td><td>pickup             </td></tr>\n",
       "\t<tr><td>dodge              </td><td>dakota pickup 4wd  </td><td>5.2                </td><td>1999               </td><td>8                  </td><td>manual(m5)         </td><td>4                  </td><td>11                 </td><td>17                 </td><td>r                  </td><td>pickup             </td></tr>\n",
       "\t<tr><td>dodge              </td><td>dakota pickup 4wd  </td><td>5.2                </td><td>1999               </td><td>8                  </td><td>auto(l4)           </td><td>4                  </td><td>11                 </td><td>15                 </td><td>r                  </td><td>pickup             </td></tr>\n",
       "\t<tr><td>dodge              </td><td>durango 4wd        </td><td>3.9                </td><td>1999               </td><td>6                  </td><td>auto(l4)           </td><td>4                  </td><td>13                 </td><td>17                 </td><td>r                  </td><td>suv                </td></tr>\n",
       "\t<tr><td>dodge              </td><td>durango 4wd        </td><td>5.2                </td><td>1999               </td><td>8                  </td><td>auto(l4)           </td><td>4                  </td><td>11                 </td><td>16                 </td><td>r                  </td><td>suv                </td></tr>\n",
       "\t<tr><td>dodge              </td><td>durango 4wd        </td><td>5.9                </td><td>1999               </td><td>8                  </td><td>auto(l4)           </td><td>4                  </td><td>11                 </td><td>15                 </td><td>r                  </td><td>suv                </td></tr>\n",
       "\t<tr><td>dodge              </td><td>ram 1500 pickup 4wd</td><td>5.2                </td><td>1999               </td><td>8                  </td><td>auto(l4)           </td><td>4                  </td><td>11                 </td><td>15                 </td><td>r                  </td><td>pickup             </td></tr>\n",
       "\t<tr><td>...</td><td>...</td><td>...</td><td>...</td><td>...</td><td>...</td><td>...</td><td>...</td><td>...</td><td>...</td><td>...</td></tr>\n",
       "\t<tr><td>toyota                </td><td>camry                 </td><td>3.0                   </td><td>1999                  </td><td>6                     </td><td>auto(l4)              </td><td>f                     </td><td>18                    </td><td>26                    </td><td>r                     </td><td>midsize               </td></tr>\n",
       "\t<tr><td>toyota                </td><td>camry                 </td><td>3.0                   </td><td>1999                  </td><td>6                     </td><td>manual(m5)            </td><td>f                     </td><td>18                    </td><td>26                    </td><td>r                     </td><td>midsize               </td></tr>\n",
       "\t<tr><td>toyota                </td><td>camry solara          </td><td>2.2                   </td><td>1999                  </td><td>4                     </td><td>auto(l4)              </td><td>f                     </td><td>21                    </td><td>27                    </td><td>r                     </td><td>compact               </td></tr>\n",
       "\t<tr><td>toyota                </td><td>camry solara          </td><td>2.2                   </td><td>1999                  </td><td>4                     </td><td>manual(m5)            </td><td>f                     </td><td>21                    </td><td>29                    </td><td>r                     </td><td>compact               </td></tr>\n",
       "\t<tr><td>toyota                </td><td>camry solara          </td><td>3.0                   </td><td>1999                  </td><td>6                     </td><td>auto(l4)              </td><td>f                     </td><td>18                    </td><td>26                    </td><td>r                     </td><td>compact               </td></tr>\n",
       "\t<tr><td>toyota                </td><td>camry solara          </td><td>3.0                   </td><td>1999                  </td><td>6                     </td><td>manual(m5)            </td><td>f                     </td><td>18                    </td><td>26                    </td><td>r                     </td><td>compact               </td></tr>\n",
       "\t<tr><td>toyota                </td><td>corolla               </td><td>1.8                   </td><td>1999                  </td><td>4                     </td><td>auto(l3)              </td><td>f                     </td><td>24                    </td><td>30                    </td><td>r                     </td><td>compact               </td></tr>\n",
       "\t<tr><td>toyota                </td><td>corolla               </td><td>1.8                   </td><td>1999                  </td><td>4                     </td><td>auto(l4)              </td><td>f                     </td><td>24                    </td><td>33                    </td><td>r                     </td><td>compact               </td></tr>\n",
       "\t<tr><td>toyota                </td><td>corolla               </td><td>1.8                   </td><td>1999                  </td><td>4                     </td><td>manual(m5)            </td><td>f                     </td><td>26                    </td><td>35                    </td><td>r                     </td><td>compact               </td></tr>\n",
       "\t<tr><td>toyota                </td><td>land cruiser wagon 4wd</td><td>4.7                   </td><td>1999                  </td><td>8                     </td><td>auto(l4)              </td><td>4                     </td><td>11                    </td><td>15                    </td><td>r                     </td><td>suv                   </td></tr>\n",
       "\t<tr><td>toyota                </td><td>toyota tacoma 4wd     </td><td>2.7                   </td><td>1999                  </td><td>4                     </td><td>manual(m5)            </td><td>4                     </td><td>15                    </td><td>20                    </td><td>r                     </td><td>pickup                </td></tr>\n",
       "\t<tr><td>toyota                </td><td>toyota tacoma 4wd     </td><td>2.7                   </td><td>1999                  </td><td>4                     </td><td>auto(l4)              </td><td>4                     </td><td>16                    </td><td>20                    </td><td>r                     </td><td>pickup                </td></tr>\n",
       "\t<tr><td>toyota                </td><td>toyota tacoma 4wd     </td><td>3.4                   </td><td>1999                  </td><td>6                     </td><td>manual(m5)            </td><td>4                     </td><td>15                    </td><td>17                    </td><td>r                     </td><td>pickup                </td></tr>\n",
       "\t<tr><td>toyota                </td><td>toyota tacoma 4wd     </td><td>3.4                   </td><td>1999                  </td><td>6                     </td><td>auto(l4)              </td><td>4                     </td><td>15                    </td><td>19                    </td><td>r                     </td><td>pickup                </td></tr>\n",
       "\t<tr><td>volkswagen            </td><td>gti                   </td><td>2.0                   </td><td>1999                  </td><td>4                     </td><td>manual(m5)            </td><td>f                     </td><td>21                    </td><td>29                    </td><td>r                     </td><td>compact               </td></tr>\n",
       "\t<tr><td>volkswagen            </td><td>gti                   </td><td>2.0                   </td><td>1999                  </td><td>4                     </td><td>auto(l4)              </td><td>f                     </td><td>19                    </td><td>26                    </td><td>r                     </td><td>compact               </td></tr>\n",
       "\t<tr><td>volkswagen            </td><td>gti                   </td><td>2.8                   </td><td>1999                  </td><td>6                     </td><td>manual(m5)            </td><td>f                     </td><td>17                    </td><td>24                    </td><td>r                     </td><td>compact               </td></tr>\n",
       "\t<tr><td>volkswagen            </td><td>jetta                 </td><td>1.9                   </td><td>1999                  </td><td>4                     </td><td>manual(m5)            </td><td>f                     </td><td>33                    </td><td>44                    </td><td>d                     </td><td>compact               </td></tr>\n",
       "\t<tr><td>volkswagen            </td><td>jetta                 </td><td>2.0                   </td><td>1999                  </td><td>4                     </td><td>manual(m5)            </td><td>f                     </td><td>21                    </td><td>29                    </td><td>r                     </td><td>compact               </td></tr>\n",
       "\t<tr><td>volkswagen            </td><td>jetta                 </td><td>2.0                   </td><td>1999                  </td><td>4                     </td><td>auto(l4)              </td><td>f                     </td><td>19                    </td><td>26                    </td><td>r                     </td><td>compact               </td></tr>\n",
       "\t<tr><td>volkswagen            </td><td>jetta                 </td><td>2.8                   </td><td>1999                  </td><td>6                     </td><td>auto(l4)              </td><td>f                     </td><td>16                    </td><td>23                    </td><td>r                     </td><td>compact               </td></tr>\n",
       "\t<tr><td>volkswagen            </td><td>jetta                 </td><td>2.8                   </td><td>1999                  </td><td>6                     </td><td>manual(m5)            </td><td>f                     </td><td>17                    </td><td>24                    </td><td>r                     </td><td>compact               </td></tr>\n",
       "\t<tr><td>volkswagen            </td><td>new beetle            </td><td>1.9                   </td><td>1999                  </td><td>4                     </td><td>manual(m5)            </td><td>f                     </td><td>35                    </td><td>44                    </td><td>d                     </td><td>subcompact            </td></tr>\n",
       "\t<tr><td>volkswagen            </td><td>new beetle            </td><td>1.9                   </td><td>1999                  </td><td>4                     </td><td>auto(l4)              </td><td>f                     </td><td>29                    </td><td>41                    </td><td>d                     </td><td>subcompact            </td></tr>\n",
       "\t<tr><td>volkswagen            </td><td>new beetle            </td><td>2.0                   </td><td>1999                  </td><td>4                     </td><td>manual(m5)            </td><td>f                     </td><td>21                    </td><td>29                    </td><td>r                     </td><td>subcompact            </td></tr>\n",
       "\t<tr><td>volkswagen            </td><td>new beetle            </td><td>2.0                   </td><td>1999                  </td><td>4                     </td><td>auto(l4)              </td><td>f                     </td><td>19                    </td><td>26                    </td><td>r                     </td><td>subcompact            </td></tr>\n",
       "\t<tr><td>volkswagen            </td><td>passat                </td><td>1.8                   </td><td>1999                  </td><td>4                     </td><td>manual(m5)            </td><td>f                     </td><td>21                    </td><td>29                    </td><td>p                     </td><td>midsize               </td></tr>\n",
       "\t<tr><td>volkswagen            </td><td>passat                </td><td>1.8                   </td><td>1999                  </td><td>4                     </td><td>auto(l5)              </td><td>f                     </td><td>18                    </td><td>29                    </td><td>p                     </td><td>midsize               </td></tr>\n",
       "\t<tr><td>volkswagen            </td><td>passat                </td><td>2.8                   </td><td>1999                  </td><td>6                     </td><td>auto(l5)              </td><td>f                     </td><td>16                    </td><td>26                    </td><td>p                     </td><td>midsize               </td></tr>\n",
       "\t<tr><td>volkswagen            </td><td>passat                </td><td>2.8                   </td><td>1999                  </td><td>6                     </td><td>manual(m5)            </td><td>f                     </td><td>18                    </td><td>26                    </td><td>p                     </td><td>midsize               </td></tr>\n",
       "</tbody>\n",
       "</table>\n"
      ],
      "text/latex": [
       "\\begin{tabular}{r|lllllllllll}\n",
       " manufacturer & model & displ & year & cyl & trans & drv & cty & hwy & fl & class\\\\\n",
       "\\hline\n",
       "\t audi                & a4                  & 1.8                 & 1999                & 4                   & auto(l5)            & f                   & 18                  & 29                  & p                   & compact            \\\\\n",
       "\t audi                & a4                  & 1.8                 & 1999                & 4                   & manual(m5)          & f                   & 21                  & 29                  & p                   & compact            \\\\\n",
       "\t audi                & a4                  & 2.8                 & 1999                & 6                   & auto(l5)            & f                   & 16                  & 26                  & p                   & compact            \\\\\n",
       "\t audi                & a4                  & 2.8                 & 1999                & 6                   & manual(m5)          & f                   & 18                  & 26                  & p                   & compact            \\\\\n",
       "\t audi                & a4 quattro          & 1.8                 & 1999                & 4                   & manual(m5)          & 4                   & 18                  & 26                  & p                   & compact            \\\\\n",
       "\t audi                & a4 quattro          & 1.8                 & 1999                & 4                   & auto(l5)            & 4                   & 16                  & 25                  & p                   & compact            \\\\\n",
       "\t audi                & a4 quattro          & 2.8                 & 1999                & 6                   & auto(l5)            & 4                   & 15                  & 25                  & p                   & compact            \\\\\n",
       "\t audi                & a4 quattro          & 2.8                 & 1999                & 6                   & manual(m5)          & 4                   & 17                  & 25                  & p                   & compact            \\\\\n",
       "\t audi                & a6 quattro          & 2.8                 & 1999                & 6                   & auto(l5)            & 4                   & 15                  & 24                  & p                   & midsize            \\\\\n",
       "\t chevrolet           & c1500 suburban 2wd  & 5.7                 & 1999                & 8                   & auto(l4)            & r                   & 13                  & 17                  & r                   & suv                \\\\\n",
       "\t chevrolet           & corvette            & 5.7                 & 1999                & 8                   & manual(m6)          & r                   & 16                  & 26                  & p                   & 2seater            \\\\\n",
       "\t chevrolet           & corvette            & 5.7                 & 1999                & 8                   & auto(l4)            & r                   & 15                  & 23                  & p                   & 2seater            \\\\\n",
       "\t chevrolet           & k1500 tahoe 4wd     & 5.7                 & 1999                & 8                   & auto(l4)            & 4                   & 11                  & 15                  & r                   & suv                \\\\\n",
       "\t chevrolet           & k1500 tahoe 4wd     & 6.5                 & 1999                & 8                   & auto(l4)            & 4                   & 14                  & 17                  & d                   & suv                \\\\\n",
       "\t chevrolet           & malibu              & 2.4                 & 1999                & 4                   & auto(l4)            & f                   & 19                  & 27                  & r                   & midsize            \\\\\n",
       "\t chevrolet           & malibu              & 3.1                 & 1999                & 6                   & auto(l4)            & f                   & 18                  & 26                  & r                   & midsize            \\\\\n",
       "\t dodge               & caravan 2wd         & 2.4                 & 1999                & 4                   & auto(l3)            & f                   & 18                  & 24                  & r                   & minivan            \\\\\n",
       "\t dodge               & caravan 2wd         & 3.0                 & 1999                & 6                   & auto(l4)            & f                   & 17                  & 24                  & r                   & minivan            \\\\\n",
       "\t dodge               & caravan 2wd         & 3.3                 & 1999                & 6                   & auto(l4)            & f                   & 16                  & 22                  & r                   & minivan            \\\\\n",
       "\t dodge               & caravan 2wd         & 3.3                 & 1999                & 6                   & auto(l4)            & f                   & 16                  & 22                  & r                   & minivan            \\\\\n",
       "\t dodge               & caravan 2wd         & 3.8                 & 1999                & 6                   & auto(l4)            & f                   & 15                  & 22                  & r                   & minivan            \\\\\n",
       "\t dodge               & caravan 2wd         & 3.8                 & 1999                & 6                   & auto(l4)            & f                   & 15                  & 21                  & r                   & minivan            \\\\\n",
       "\t dodge               & dakota pickup 4wd   & 3.9                 & 1999                & 6                   & auto(l4)            & 4                   & 13                  & 17                  & r                   & pickup             \\\\\n",
       "\t dodge               & dakota pickup 4wd   & 3.9                 & 1999                & 6                   & manual(m5)          & 4                   & 14                  & 17                  & r                   & pickup             \\\\\n",
       "\t dodge               & dakota pickup 4wd   & 5.2                 & 1999                & 8                   & manual(m5)          & 4                   & 11                  & 17                  & r                   & pickup             \\\\\n",
       "\t dodge               & dakota pickup 4wd   & 5.2                 & 1999                & 8                   & auto(l4)            & 4                   & 11                  & 15                  & r                   & pickup             \\\\\n",
       "\t dodge               & durango 4wd         & 3.9                 & 1999                & 6                   & auto(l4)            & 4                   & 13                  & 17                  & r                   & suv                \\\\\n",
       "\t dodge               & durango 4wd         & 5.2                 & 1999                & 8                   & auto(l4)            & 4                   & 11                  & 16                  & r                   & suv                \\\\\n",
       "\t dodge               & durango 4wd         & 5.9                 & 1999                & 8                   & auto(l4)            & 4                   & 11                  & 15                  & r                   & suv                \\\\\n",
       "\t dodge               & ram 1500 pickup 4wd & 5.2                 & 1999                & 8                   & auto(l4)            & 4                   & 11                  & 15                  & r                   & pickup             \\\\\n",
       "\t ... & ... & ... & ... & ... & ... & ... & ... & ... & ... & ...\\\\\n",
       "\t toyota                 & camry                  & 3.0                    & 1999                   & 6                      & auto(l4)               & f                      & 18                     & 26                     & r                      & midsize               \\\\\n",
       "\t toyota                 & camry                  & 3.0                    & 1999                   & 6                      & manual(m5)             & f                      & 18                     & 26                     & r                      & midsize               \\\\\n",
       "\t toyota                 & camry solara           & 2.2                    & 1999                   & 4                      & auto(l4)               & f                      & 21                     & 27                     & r                      & compact               \\\\\n",
       "\t toyota                 & camry solara           & 2.2                    & 1999                   & 4                      & manual(m5)             & f                      & 21                     & 29                     & r                      & compact               \\\\\n",
       "\t toyota                 & camry solara           & 3.0                    & 1999                   & 6                      & auto(l4)               & f                      & 18                     & 26                     & r                      & compact               \\\\\n",
       "\t toyota                 & camry solara           & 3.0                    & 1999                   & 6                      & manual(m5)             & f                      & 18                     & 26                     & r                      & compact               \\\\\n",
       "\t toyota                 & corolla                & 1.8                    & 1999                   & 4                      & auto(l3)               & f                      & 24                     & 30                     & r                      & compact               \\\\\n",
       "\t toyota                 & corolla                & 1.8                    & 1999                   & 4                      & auto(l4)               & f                      & 24                     & 33                     & r                      & compact               \\\\\n",
       "\t toyota                 & corolla                & 1.8                    & 1999                   & 4                      & manual(m5)             & f                      & 26                     & 35                     & r                      & compact               \\\\\n",
       "\t toyota                 & land cruiser wagon 4wd & 4.7                    & 1999                   & 8                      & auto(l4)               & 4                      & 11                     & 15                     & r                      & suv                   \\\\\n",
       "\t toyota                 & toyota tacoma 4wd      & 2.7                    & 1999                   & 4                      & manual(m5)             & 4                      & 15                     & 20                     & r                      & pickup                \\\\\n",
       "\t toyota                 & toyota tacoma 4wd      & 2.7                    & 1999                   & 4                      & auto(l4)               & 4                      & 16                     & 20                     & r                      & pickup                \\\\\n",
       "\t toyota                 & toyota tacoma 4wd      & 3.4                    & 1999                   & 6                      & manual(m5)             & 4                      & 15                     & 17                     & r                      & pickup                \\\\\n",
       "\t toyota                 & toyota tacoma 4wd      & 3.4                    & 1999                   & 6                      & auto(l4)               & 4                      & 15                     & 19                     & r                      & pickup                \\\\\n",
       "\t volkswagen             & gti                    & 2.0                    & 1999                   & 4                      & manual(m5)             & f                      & 21                     & 29                     & r                      & compact               \\\\\n",
       "\t volkswagen             & gti                    & 2.0                    & 1999                   & 4                      & auto(l4)               & f                      & 19                     & 26                     & r                      & compact               \\\\\n",
       "\t volkswagen             & gti                    & 2.8                    & 1999                   & 6                      & manual(m5)             & f                      & 17                     & 24                     & r                      & compact               \\\\\n",
       "\t volkswagen             & jetta                  & 1.9                    & 1999                   & 4                      & manual(m5)             & f                      & 33                     & 44                     & d                      & compact               \\\\\n",
       "\t volkswagen             & jetta                  & 2.0                    & 1999                   & 4                      & manual(m5)             & f                      & 21                     & 29                     & r                      & compact               \\\\\n",
       "\t volkswagen             & jetta                  & 2.0                    & 1999                   & 4                      & auto(l4)               & f                      & 19                     & 26                     & r                      & compact               \\\\\n",
       "\t volkswagen             & jetta                  & 2.8                    & 1999                   & 6                      & auto(l4)               & f                      & 16                     & 23                     & r                      & compact               \\\\\n",
       "\t volkswagen             & jetta                  & 2.8                    & 1999                   & 6                      & manual(m5)             & f                      & 17                     & 24                     & r                      & compact               \\\\\n",
       "\t volkswagen             & new beetle             & 1.9                    & 1999                   & 4                      & manual(m5)             & f                      & 35                     & 44                     & d                      & subcompact            \\\\\n",
       "\t volkswagen             & new beetle             & 1.9                    & 1999                   & 4                      & auto(l4)               & f                      & 29                     & 41                     & d                      & subcompact            \\\\\n",
       "\t volkswagen             & new beetle             & 2.0                    & 1999                   & 4                      & manual(m5)             & f                      & 21                     & 29                     & r                      & subcompact            \\\\\n",
       "\t volkswagen             & new beetle             & 2.0                    & 1999                   & 4                      & auto(l4)               & f                      & 19                     & 26                     & r                      & subcompact            \\\\\n",
       "\t volkswagen             & passat                 & 1.8                    & 1999                   & 4                      & manual(m5)             & f                      & 21                     & 29                     & p                      & midsize               \\\\\n",
       "\t volkswagen             & passat                 & 1.8                    & 1999                   & 4                      & auto(l5)               & f                      & 18                     & 29                     & p                      & midsize               \\\\\n",
       "\t volkswagen             & passat                 & 2.8                    & 1999                   & 6                      & auto(l5)               & f                      & 16                     & 26                     & p                      & midsize               \\\\\n",
       "\t volkswagen             & passat                 & 2.8                    & 1999                   & 6                      & manual(m5)             & f                      & 18                     & 26                     & p                      & midsize               \\\\\n",
       "\\end{tabular}\n"
      ],
      "text/markdown": [
       "\n",
       "| manufacturer | model | displ | year | cyl | trans | drv | cty | hwy | fl | class |\n",
       "|---|---|---|---|---|---|---|---|---|---|---|\n",
       "| audi                | a4                  | 1.8                 | 1999                | 4                   | auto(l5)            | f                   | 18                  | 29                  | p                   | compact             |\n",
       "| audi                | a4                  | 1.8                 | 1999                | 4                   | manual(m5)          | f                   | 21                  | 29                  | p                   | compact             |\n",
       "| audi                | a4                  | 2.8                 | 1999                | 6                   | auto(l5)            | f                   | 16                  | 26                  | p                   | compact             |\n",
       "| audi                | a4                  | 2.8                 | 1999                | 6                   | manual(m5)          | f                   | 18                  | 26                  | p                   | compact             |\n",
       "| audi                | a4 quattro          | 1.8                 | 1999                | 4                   | manual(m5)          | 4                   | 18                  | 26                  | p                   | compact             |\n",
       "| audi                | a4 quattro          | 1.8                 | 1999                | 4                   | auto(l5)            | 4                   | 16                  | 25                  | p                   | compact             |\n",
       "| audi                | a4 quattro          | 2.8                 | 1999                | 6                   | auto(l5)            | 4                   | 15                  | 25                  | p                   | compact             |\n",
       "| audi                | a4 quattro          | 2.8                 | 1999                | 6                   | manual(m5)          | 4                   | 17                  | 25                  | p                   | compact             |\n",
       "| audi                | a6 quattro          | 2.8                 | 1999                | 6                   | auto(l5)            | 4                   | 15                  | 24                  | p                   | midsize             |\n",
       "| chevrolet           | c1500 suburban 2wd  | 5.7                 | 1999                | 8                   | auto(l4)            | r                   | 13                  | 17                  | r                   | suv                 |\n",
       "| chevrolet           | corvette            | 5.7                 | 1999                | 8                   | manual(m6)          | r                   | 16                  | 26                  | p                   | 2seater             |\n",
       "| chevrolet           | corvette            | 5.7                 | 1999                | 8                   | auto(l4)            | r                   | 15                  | 23                  | p                   | 2seater             |\n",
       "| chevrolet           | k1500 tahoe 4wd     | 5.7                 | 1999                | 8                   | auto(l4)            | 4                   | 11                  | 15                  | r                   | suv                 |\n",
       "| chevrolet           | k1500 tahoe 4wd     | 6.5                 | 1999                | 8                   | auto(l4)            | 4                   | 14                  | 17                  | d                   | suv                 |\n",
       "| chevrolet           | malibu              | 2.4                 | 1999                | 4                   | auto(l4)            | f                   | 19                  | 27                  | r                   | midsize             |\n",
       "| chevrolet           | malibu              | 3.1                 | 1999                | 6                   | auto(l4)            | f                   | 18                  | 26                  | r                   | midsize             |\n",
       "| dodge               | caravan 2wd         | 2.4                 | 1999                | 4                   | auto(l3)            | f                   | 18                  | 24                  | r                   | minivan             |\n",
       "| dodge               | caravan 2wd         | 3.0                 | 1999                | 6                   | auto(l4)            | f                   | 17                  | 24                  | r                   | minivan             |\n",
       "| dodge               | caravan 2wd         | 3.3                 | 1999                | 6                   | auto(l4)            | f                   | 16                  | 22                  | r                   | minivan             |\n",
       "| dodge               | caravan 2wd         | 3.3                 | 1999                | 6                   | auto(l4)            | f                   | 16                  | 22                  | r                   | minivan             |\n",
       "| dodge               | caravan 2wd         | 3.8                 | 1999                | 6                   | auto(l4)            | f                   | 15                  | 22                  | r                   | minivan             |\n",
       "| dodge               | caravan 2wd         | 3.8                 | 1999                | 6                   | auto(l4)            | f                   | 15                  | 21                  | r                   | minivan             |\n",
       "| dodge               | dakota pickup 4wd   | 3.9                 | 1999                | 6                   | auto(l4)            | 4                   | 13                  | 17                  | r                   | pickup              |\n",
       "| dodge               | dakota pickup 4wd   | 3.9                 | 1999                | 6                   | manual(m5)          | 4                   | 14                  | 17                  | r                   | pickup              |\n",
       "| dodge               | dakota pickup 4wd   | 5.2                 | 1999                | 8                   | manual(m5)          | 4                   | 11                  | 17                  | r                   | pickup              |\n",
       "| dodge               | dakota pickup 4wd   | 5.2                 | 1999                | 8                   | auto(l4)            | 4                   | 11                  | 15                  | r                   | pickup              |\n",
       "| dodge               | durango 4wd         | 3.9                 | 1999                | 6                   | auto(l4)            | 4                   | 13                  | 17                  | r                   | suv                 |\n",
       "| dodge               | durango 4wd         | 5.2                 | 1999                | 8                   | auto(l4)            | 4                   | 11                  | 16                  | r                   | suv                 |\n",
       "| dodge               | durango 4wd         | 5.9                 | 1999                | 8                   | auto(l4)            | 4                   | 11                  | 15                  | r                   | suv                 |\n",
       "| dodge               | ram 1500 pickup 4wd | 5.2                 | 1999                | 8                   | auto(l4)            | 4                   | 11                  | 15                  | r                   | pickup              |\n",
       "| ... | ... | ... | ... | ... | ... | ... | ... | ... | ... | ... |\n",
       "| toyota                 | camry                  | 3.0                    | 1999                   | 6                      | auto(l4)               | f                      | 18                     | 26                     | r                      | midsize                |\n",
       "| toyota                 | camry                  | 3.0                    | 1999                   | 6                      | manual(m5)             | f                      | 18                     | 26                     | r                      | midsize                |\n",
       "| toyota                 | camry solara           | 2.2                    | 1999                   | 4                      | auto(l4)               | f                      | 21                     | 27                     | r                      | compact                |\n",
       "| toyota                 | camry solara           | 2.2                    | 1999                   | 4                      | manual(m5)             | f                      | 21                     | 29                     | r                      | compact                |\n",
       "| toyota                 | camry solara           | 3.0                    | 1999                   | 6                      | auto(l4)               | f                      | 18                     | 26                     | r                      | compact                |\n",
       "| toyota                 | camry solara           | 3.0                    | 1999                   | 6                      | manual(m5)             | f                      | 18                     | 26                     | r                      | compact                |\n",
       "| toyota                 | corolla                | 1.8                    | 1999                   | 4                      | auto(l3)               | f                      | 24                     | 30                     | r                      | compact                |\n",
       "| toyota                 | corolla                | 1.8                    | 1999                   | 4                      | auto(l4)               | f                      | 24                     | 33                     | r                      | compact                |\n",
       "| toyota                 | corolla                | 1.8                    | 1999                   | 4                      | manual(m5)             | f                      | 26                     | 35                     | r                      | compact                |\n",
       "| toyota                 | land cruiser wagon 4wd | 4.7                    | 1999                   | 8                      | auto(l4)               | 4                      | 11                     | 15                     | r                      | suv                    |\n",
       "| toyota                 | toyota tacoma 4wd      | 2.7                    | 1999                   | 4                      | manual(m5)             | 4                      | 15                     | 20                     | r                      | pickup                 |\n",
       "| toyota                 | toyota tacoma 4wd      | 2.7                    | 1999                   | 4                      | auto(l4)               | 4                      | 16                     | 20                     | r                      | pickup                 |\n",
       "| toyota                 | toyota tacoma 4wd      | 3.4                    | 1999                   | 6                      | manual(m5)             | 4                      | 15                     | 17                     | r                      | pickup                 |\n",
       "| toyota                 | toyota tacoma 4wd      | 3.4                    | 1999                   | 6                      | auto(l4)               | 4                      | 15                     | 19                     | r                      | pickup                 |\n",
       "| volkswagen             | gti                    | 2.0                    | 1999                   | 4                      | manual(m5)             | f                      | 21                     | 29                     | r                      | compact                |\n",
       "| volkswagen             | gti                    | 2.0                    | 1999                   | 4                      | auto(l4)               | f                      | 19                     | 26                     | r                      | compact                |\n",
       "| volkswagen             | gti                    | 2.8                    | 1999                   | 6                      | manual(m5)             | f                      | 17                     | 24                     | r                      | compact                |\n",
       "| volkswagen             | jetta                  | 1.9                    | 1999                   | 4                      | manual(m5)             | f                      | 33                     | 44                     | d                      | compact                |\n",
       "| volkswagen             | jetta                  | 2.0                    | 1999                   | 4                      | manual(m5)             | f                      | 21                     | 29                     | r                      | compact                |\n",
       "| volkswagen             | jetta                  | 2.0                    | 1999                   | 4                      | auto(l4)               | f                      | 19                     | 26                     | r                      | compact                |\n",
       "| volkswagen             | jetta                  | 2.8                    | 1999                   | 6                      | auto(l4)               | f                      | 16                     | 23                     | r                      | compact                |\n",
       "| volkswagen             | jetta                  | 2.8                    | 1999                   | 6                      | manual(m5)             | f                      | 17                     | 24                     | r                      | compact                |\n",
       "| volkswagen             | new beetle             | 1.9                    | 1999                   | 4                      | manual(m5)             | f                      | 35                     | 44                     | d                      | subcompact             |\n",
       "| volkswagen             | new beetle             | 1.9                    | 1999                   | 4                      | auto(l4)               | f                      | 29                     | 41                     | d                      | subcompact             |\n",
       "| volkswagen             | new beetle             | 2.0                    | 1999                   | 4                      | manual(m5)             | f                      | 21                     | 29                     | r                      | subcompact             |\n",
       "| volkswagen             | new beetle             | 2.0                    | 1999                   | 4                      | auto(l4)               | f                      | 19                     | 26                     | r                      | subcompact             |\n",
       "| volkswagen             | passat                 | 1.8                    | 1999                   | 4                      | manual(m5)             | f                      | 21                     | 29                     | p                      | midsize                |\n",
       "| volkswagen             | passat                 | 1.8                    | 1999                   | 4                      | auto(l5)               | f                      | 18                     | 29                     | p                      | midsize                |\n",
       "| volkswagen             | passat                 | 2.8                    | 1999                   | 6                      | auto(l5)               | f                      | 16                     | 26                     | p                      | midsize                |\n",
       "| volkswagen             | passat                 | 2.8                    | 1999                   | 6                      | manual(m5)             | f                      | 18                     | 26                     | p                      | midsize                |\n",
       "\n"
      ],
      "text/plain": [
       "    manufacturer model                  displ year cyl trans      drv cty hwy\n",
       "1   audi         a4                     1.8   1999 4   auto(l5)   f   18  29 \n",
       "2   audi         a4                     1.8   1999 4   manual(m5) f   21  29 \n",
       "3   audi         a4                     2.8   1999 6   auto(l5)   f   16  26 \n",
       "4   audi         a4                     2.8   1999 6   manual(m5) f   18  26 \n",
       "5   audi         a4 quattro             1.8   1999 4   manual(m5) 4   18  26 \n",
       "6   audi         a4 quattro             1.8   1999 4   auto(l5)   4   16  25 \n",
       "7   audi         a4 quattro             2.8   1999 6   auto(l5)   4   15  25 \n",
       "8   audi         a4 quattro             2.8   1999 6   manual(m5) 4   17  25 \n",
       "9   audi         a6 quattro             2.8   1999 6   auto(l5)   4   15  24 \n",
       "10  chevrolet    c1500 suburban 2wd     5.7   1999 8   auto(l4)   r   13  17 \n",
       "11  chevrolet    corvette               5.7   1999 8   manual(m6) r   16  26 \n",
       "12  chevrolet    corvette               5.7   1999 8   auto(l4)   r   15  23 \n",
       "13  chevrolet    k1500 tahoe 4wd        5.7   1999 8   auto(l4)   4   11  15 \n",
       "14  chevrolet    k1500 tahoe 4wd        6.5   1999 8   auto(l4)   4   14  17 \n",
       "15  chevrolet    malibu                 2.4   1999 4   auto(l4)   f   19  27 \n",
       "16  chevrolet    malibu                 3.1   1999 6   auto(l4)   f   18  26 \n",
       "17  dodge        caravan 2wd            2.4   1999 4   auto(l3)   f   18  24 \n",
       "18  dodge        caravan 2wd            3.0   1999 6   auto(l4)   f   17  24 \n",
       "19  dodge        caravan 2wd            3.3   1999 6   auto(l4)   f   16  22 \n",
       "20  dodge        caravan 2wd            3.3   1999 6   auto(l4)   f   16  22 \n",
       "21  dodge        caravan 2wd            3.8   1999 6   auto(l4)   f   15  22 \n",
       "22  dodge        caravan 2wd            3.8   1999 6   auto(l4)   f   15  21 \n",
       "23  dodge        dakota pickup 4wd      3.9   1999 6   auto(l4)   4   13  17 \n",
       "24  dodge        dakota pickup 4wd      3.9   1999 6   manual(m5) 4   14  17 \n",
       "25  dodge        dakota pickup 4wd      5.2   1999 8   manual(m5) 4   11  17 \n",
       "26  dodge        dakota pickup 4wd      5.2   1999 8   auto(l4)   4   11  15 \n",
       "27  dodge        durango 4wd            3.9   1999 6   auto(l4)   4   13  17 \n",
       "28  dodge        durango 4wd            5.2   1999 8   auto(l4)   4   11  16 \n",
       "29  dodge        durango 4wd            5.9   1999 8   auto(l4)   4   11  15 \n",
       "30  dodge        ram 1500 pickup 4wd    5.2   1999 8   auto(l4)   4   11  15 \n",
       "... ...          ...                    ...   ...  ... ...        ... ... ...\n",
       "88  toyota       camry                  3.0   1999 6   auto(l4)   f   18  26 \n",
       "89  toyota       camry                  3.0   1999 6   manual(m5) f   18  26 \n",
       "90  toyota       camry solara           2.2   1999 4   auto(l4)   f   21  27 \n",
       "91  toyota       camry solara           2.2   1999 4   manual(m5) f   21  29 \n",
       "92  toyota       camry solara           3.0   1999 6   auto(l4)   f   18  26 \n",
       "93  toyota       camry solara           3.0   1999 6   manual(m5) f   18  26 \n",
       "94  toyota       corolla                1.8   1999 4   auto(l3)   f   24  30 \n",
       "95  toyota       corolla                1.8   1999 4   auto(l4)   f   24  33 \n",
       "96  toyota       corolla                1.8   1999 4   manual(m5) f   26  35 \n",
       "97  toyota       land cruiser wagon 4wd 4.7   1999 8   auto(l4)   4   11  15 \n",
       "98  toyota       toyota tacoma 4wd      2.7   1999 4   manual(m5) 4   15  20 \n",
       "99  toyota       toyota tacoma 4wd      2.7   1999 4   auto(l4)   4   16  20 \n",
       "100 toyota       toyota tacoma 4wd      3.4   1999 6   manual(m5) 4   15  17 \n",
       "101 toyota       toyota tacoma 4wd      3.4   1999 6   auto(l4)   4   15  19 \n",
       "102 volkswagen   gti                    2.0   1999 4   manual(m5) f   21  29 \n",
       "103 volkswagen   gti                    2.0   1999 4   auto(l4)   f   19  26 \n",
       "104 volkswagen   gti                    2.8   1999 6   manual(m5) f   17  24 \n",
       "105 volkswagen   jetta                  1.9   1999 4   manual(m5) f   33  44 \n",
       "106 volkswagen   jetta                  2.0   1999 4   manual(m5) f   21  29 \n",
       "107 volkswagen   jetta                  2.0   1999 4   auto(l4)   f   19  26 \n",
       "108 volkswagen   jetta                  2.8   1999 6   auto(l4)   f   16  23 \n",
       "109 volkswagen   jetta                  2.8   1999 6   manual(m5) f   17  24 \n",
       "110 volkswagen   new beetle             1.9   1999 4   manual(m5) f   35  44 \n",
       "111 volkswagen   new beetle             1.9   1999 4   auto(l4)   f   29  41 \n",
       "112 volkswagen   new beetle             2.0   1999 4   manual(m5) f   21  29 \n",
       "113 volkswagen   new beetle             2.0   1999 4   auto(l4)   f   19  26 \n",
       "114 volkswagen   passat                 1.8   1999 4   manual(m5) f   21  29 \n",
       "115 volkswagen   passat                 1.8   1999 4   auto(l5)   f   18  29 \n",
       "116 volkswagen   passat                 2.8   1999 6   auto(l5)   f   16  26 \n",
       "117 volkswagen   passat                 2.8   1999 6   manual(m5) f   18  26 \n",
       "    fl  class     \n",
       "1   p   compact   \n",
       "2   p   compact   \n",
       "3   p   compact   \n",
       "4   p   compact   \n",
       "5   p   compact   \n",
       "6   p   compact   \n",
       "7   p   compact   \n",
       "8   p   compact   \n",
       "9   p   midsize   \n",
       "10  r   suv       \n",
       "11  p   2seater   \n",
       "12  p   2seater   \n",
       "13  r   suv       \n",
       "14  d   suv       \n",
       "15  r   midsize   \n",
       "16  r   midsize   \n",
       "17  r   minivan   \n",
       "18  r   minivan   \n",
       "19  r   minivan   \n",
       "20  r   minivan   \n",
       "21  r   minivan   \n",
       "22  r   minivan   \n",
       "23  r   pickup    \n",
       "24  r   pickup    \n",
       "25  r   pickup    \n",
       "26  r   pickup    \n",
       "27  r   suv       \n",
       "28  r   suv       \n",
       "29  r   suv       \n",
       "30  r   pickup    \n",
       "... ... ...       \n",
       "88  r   midsize   \n",
       "89  r   midsize   \n",
       "90  r   compact   \n",
       "91  r   compact   \n",
       "92  r   compact   \n",
       "93  r   compact   \n",
       "94  r   compact   \n",
       "95  r   compact   \n",
       "96  r   compact   \n",
       "97  r   suv       \n",
       "98  r   pickup    \n",
       "99  r   pickup    \n",
       "100 r   pickup    \n",
       "101 r   pickup    \n",
       "102 r   compact   \n",
       "103 r   compact   \n",
       "104 r   compact   \n",
       "105 d   compact   \n",
       "106 r   compact   \n",
       "107 r   compact   \n",
       "108 r   compact   \n",
       "109 r   compact   \n",
       "110 d   subcompact\n",
       "111 d   subcompact\n",
       "112 r   subcompact\n",
       "113 r   subcompact\n",
       "114 p   midsize   \n",
       "115 p   midsize   \n",
       "116 p   midsize   \n",
       "117 p   midsize   "
      ]
     },
     "metadata": {},
     "output_type": "display_data"
    }
   ],
   "source": [
    "mpg %>% filter(year == 1999) "
   ]
  },
  {
   "cell_type": "code",
   "execution_count": 31,
   "metadata": {},
   "outputs": [
    {
     "data": {
      "text/html": [
       "<table>\n",
       "<thead><tr><th scope=col>manufacturer</th><th scope=col>model</th><th scope=col>displ</th><th scope=col>year</th><th scope=col>cyl</th><th scope=col>trans</th><th scope=col>drv</th><th scope=col>cty</th><th scope=col>hwy</th><th scope=col>fl</th><th scope=col>class</th></tr></thead>\n",
       "<tbody>\n",
       "\t<tr><td>volkswagen</td><td>passat    </td><td>1.8       </td><td>1999      </td><td>4         </td><td>manual(m5)</td><td>f         </td><td>21        </td><td>29        </td><td>p         </td><td>midsize   </td></tr>\n",
       "\t<tr><td>volkswagen</td><td>passat    </td><td>1.8       </td><td>1999      </td><td>4         </td><td>auto(l5)  </td><td>f         </td><td>18        </td><td>29        </td><td>p         </td><td>midsize   </td></tr>\n",
       "\t<tr><td>volkswagen</td><td>passat    </td><td>2.8       </td><td>1999      </td><td>6         </td><td>auto(l5)  </td><td>f         </td><td>16        </td><td>26        </td><td>p         </td><td>midsize   </td></tr>\n",
       "\t<tr><td>volkswagen</td><td>passat    </td><td>2.8       </td><td>1999      </td><td>6         </td><td>manual(m5)</td><td>f         </td><td>18        </td><td>26        </td><td>p         </td><td>midsize   </td></tr>\n",
       "</tbody>\n",
       "</table>\n"
      ],
      "text/latex": [
       "\\begin{tabular}{r|lllllllllll}\n",
       " manufacturer & model & displ & year & cyl & trans & drv & cty & hwy & fl & class\\\\\n",
       "\\hline\n",
       "\t volkswagen & passat     & 1.8        & 1999       & 4          & manual(m5) & f          & 21         & 29         & p          & midsize   \\\\\n",
       "\t volkswagen & passat     & 1.8        & 1999       & 4          & auto(l5)   & f          & 18         & 29         & p          & midsize   \\\\\n",
       "\t volkswagen & passat     & 2.8        & 1999       & 6          & auto(l5)   & f          & 16         & 26         & p          & midsize   \\\\\n",
       "\t volkswagen & passat     & 2.8        & 1999       & 6          & manual(m5) & f          & 18         & 26         & p          & midsize   \\\\\n",
       "\\end{tabular}\n"
      ],
      "text/markdown": [
       "\n",
       "| manufacturer | model | displ | year | cyl | trans | drv | cty | hwy | fl | class |\n",
       "|---|---|---|---|---|---|---|---|---|---|---|\n",
       "| volkswagen | passat     | 1.8        | 1999       | 4          | manual(m5) | f          | 21         | 29         | p          | midsize    |\n",
       "| volkswagen | passat     | 1.8        | 1999       | 4          | auto(l5)   | f          | 18         | 29         | p          | midsize    |\n",
       "| volkswagen | passat     | 2.8        | 1999       | 6          | auto(l5)   | f          | 16         | 26         | p          | midsize    |\n",
       "| volkswagen | passat     | 2.8        | 1999       | 6          | manual(m5) | f          | 18         | 26         | p          | midsize    |\n",
       "\n"
      ],
      "text/plain": [
       "  manufacturer model  displ year cyl trans      drv cty hwy fl class  \n",
       "1 volkswagen   passat 1.8   1999 4   manual(m5) f   21  29  p  midsize\n",
       "2 volkswagen   passat 1.8   1999 4   auto(l5)   f   18  29  p  midsize\n",
       "3 volkswagen   passat 2.8   1999 6   auto(l5)   f   16  26  p  midsize\n",
       "4 volkswagen   passat 2.8   1999 6   manual(m5) f   18  26  p  midsize"
      ]
     },
     "metadata": {},
     "output_type": "display_data"
    }
   ],
   "source": [
    "mpg %>% filter(year == 1999, model == 'passat') "
   ]
  },
  {
   "cell_type": "code",
   "execution_count": 32,
   "metadata": {},
   "outputs": [
    {
     "data": {
      "text/html": [
       "<table>\n",
       "<thead><tr><th scope=col>manufacturer</th><th scope=col>model</th><th scope=col>displ</th><th scope=col>year</th><th scope=col>cyl</th><th scope=col>trans</th><th scope=col>drv</th><th scope=col>cty</th><th scope=col>hwy</th><th scope=col>fl</th><th scope=col>class</th></tr></thead>\n",
       "<tbody>\n",
       "\t<tr><td>volkswagen</td><td>new beetle</td><td>1.9       </td><td>1999      </td><td>4         </td><td>manual(m5)</td><td>f         </td><td>35        </td><td>44        </td><td>d         </td><td>subcompact</td></tr>\n",
       "\t<tr><td>volkswagen</td><td>new beetle</td><td>1.9       </td><td>1999      </td><td>4         </td><td>auto(l4)  </td><td>f         </td><td>29        </td><td>41        </td><td>d         </td><td>subcompact</td></tr>\n",
       "\t<tr><td>volkswagen</td><td>new beetle</td><td>2.0       </td><td>1999      </td><td>4         </td><td>manual(m5)</td><td>f         </td><td>21        </td><td>29        </td><td>r         </td><td>subcompact</td></tr>\n",
       "\t<tr><td>volkswagen</td><td>new beetle</td><td>2.0       </td><td>1999      </td><td>4         </td><td>auto(l4)  </td><td>f         </td><td>19        </td><td>26        </td><td>r         </td><td>subcompact</td></tr>\n",
       "\t<tr><td>volkswagen</td><td>passat    </td><td>1.8       </td><td>1999      </td><td>4         </td><td>manual(m5)</td><td>f         </td><td>21        </td><td>29        </td><td>p         </td><td>midsize   </td></tr>\n",
       "\t<tr><td>volkswagen</td><td>passat    </td><td>1.8       </td><td>1999      </td><td>4         </td><td>auto(l5)  </td><td>f         </td><td>18        </td><td>29        </td><td>p         </td><td>midsize   </td></tr>\n",
       "\t<tr><td>volkswagen</td><td>passat    </td><td>2.8       </td><td>1999      </td><td>6         </td><td>auto(l5)  </td><td>f         </td><td>16        </td><td>26        </td><td>p         </td><td>midsize   </td></tr>\n",
       "\t<tr><td>volkswagen</td><td>passat    </td><td>2.8       </td><td>1999      </td><td>6         </td><td>manual(m5)</td><td>f         </td><td>18        </td><td>26        </td><td>p         </td><td>midsize   </td></tr>\n",
       "</tbody>\n",
       "</table>\n"
      ],
      "text/latex": [
       "\\begin{tabular}{r|lllllllllll}\n",
       " manufacturer & model & displ & year & cyl & trans & drv & cty & hwy & fl & class\\\\\n",
       "\\hline\n",
       "\t volkswagen & new beetle & 1.9        & 1999       & 4          & manual(m5) & f          & 35         & 44         & d          & subcompact\\\\\n",
       "\t volkswagen & new beetle & 1.9        & 1999       & 4          & auto(l4)   & f          & 29         & 41         & d          & subcompact\\\\\n",
       "\t volkswagen & new beetle & 2.0        & 1999       & 4          & manual(m5) & f          & 21         & 29         & r          & subcompact\\\\\n",
       "\t volkswagen & new beetle & 2.0        & 1999       & 4          & auto(l4)   & f          & 19         & 26         & r          & subcompact\\\\\n",
       "\t volkswagen & passat     & 1.8        & 1999       & 4          & manual(m5) & f          & 21         & 29         & p          & midsize   \\\\\n",
       "\t volkswagen & passat     & 1.8        & 1999       & 4          & auto(l5)   & f          & 18         & 29         & p          & midsize   \\\\\n",
       "\t volkswagen & passat     & 2.8        & 1999       & 6          & auto(l5)   & f          & 16         & 26         & p          & midsize   \\\\\n",
       "\t volkswagen & passat     & 2.8        & 1999       & 6          & manual(m5) & f          & 18         & 26         & p          & midsize   \\\\\n",
       "\\end{tabular}\n"
      ],
      "text/markdown": [
       "\n",
       "| manufacturer | model | displ | year | cyl | trans | drv | cty | hwy | fl | class |\n",
       "|---|---|---|---|---|---|---|---|---|---|---|\n",
       "| volkswagen | new beetle | 1.9        | 1999       | 4          | manual(m5) | f          | 35         | 44         | d          | subcompact |\n",
       "| volkswagen | new beetle | 1.9        | 1999       | 4          | auto(l4)   | f          | 29         | 41         | d          | subcompact |\n",
       "| volkswagen | new beetle | 2.0        | 1999       | 4          | manual(m5) | f          | 21         | 29         | r          | subcompact |\n",
       "| volkswagen | new beetle | 2.0        | 1999       | 4          | auto(l4)   | f          | 19         | 26         | r          | subcompact |\n",
       "| volkswagen | passat     | 1.8        | 1999       | 4          | manual(m5) | f          | 21         | 29         | p          | midsize    |\n",
       "| volkswagen | passat     | 1.8        | 1999       | 4          | auto(l5)   | f          | 18         | 29         | p          | midsize    |\n",
       "| volkswagen | passat     | 2.8        | 1999       | 6          | auto(l5)   | f          | 16         | 26         | p          | midsize    |\n",
       "| volkswagen | passat     | 2.8        | 1999       | 6          | manual(m5) | f          | 18         | 26         | p          | midsize    |\n",
       "\n"
      ],
      "text/plain": [
       "  manufacturer model      displ year cyl trans      drv cty hwy fl class     \n",
       "1 volkswagen   new beetle 1.9   1999 4   manual(m5) f   35  44  d  subcompact\n",
       "2 volkswagen   new beetle 1.9   1999 4   auto(l4)   f   29  41  d  subcompact\n",
       "3 volkswagen   new beetle 2.0   1999 4   manual(m5) f   21  29  r  subcompact\n",
       "4 volkswagen   new beetle 2.0   1999 4   auto(l4)   f   19  26  r  subcompact\n",
       "5 volkswagen   passat     1.8   1999 4   manual(m5) f   21  29  p  midsize   \n",
       "6 volkswagen   passat     1.8   1999 4   auto(l5)   f   18  29  p  midsize   \n",
       "7 volkswagen   passat     2.8   1999 6   auto(l5)   f   16  26  p  midsize   \n",
       "8 volkswagen   passat     2.8   1999 6   manual(m5) f   18  26  p  midsize   "
      ]
     },
     "metadata": {},
     "output_type": "display_data"
    }
   ],
   "source": [
    "mpg %>% filter(year == 1999, model %in% c('passat', 'new beetle') )"
   ]
  },
  {
   "cell_type": "markdown",
   "metadata": {},
   "source": [
    "#### select\n",
    "\n",
    "Return a subset of the columns\n"
   ]
  },
  {
   "cell_type": "code",
   "execution_count": 33,
   "metadata": {},
   "outputs": [
    {
     "data": {
      "text/html": [
       "<table>\n",
       "<thead><tr><th scope=col>model</th><th scope=col>displ</th><th scope=col>class</th></tr></thead>\n",
       "<tbody>\n",
       "\t<tr><td>new beetle</td><td>1.9       </td><td>subcompact</td></tr>\n",
       "\t<tr><td>new beetle</td><td>1.9       </td><td>subcompact</td></tr>\n",
       "\t<tr><td>new beetle</td><td>2.0       </td><td>subcompact</td></tr>\n",
       "\t<tr><td>new beetle</td><td>2.0       </td><td>subcompact</td></tr>\n",
       "\t<tr><td>passat    </td><td>1.8       </td><td>midsize   </td></tr>\n",
       "\t<tr><td>passat    </td><td>1.8       </td><td>midsize   </td></tr>\n",
       "\t<tr><td>passat    </td><td>2.8       </td><td>midsize   </td></tr>\n",
       "\t<tr><td>passat    </td><td>2.8       </td><td>midsize   </td></tr>\n",
       "</tbody>\n",
       "</table>\n"
      ],
      "text/latex": [
       "\\begin{tabular}{r|lll}\n",
       " model & displ & class\\\\\n",
       "\\hline\n",
       "\t new beetle & 1.9        & subcompact\\\\\n",
       "\t new beetle & 1.9        & subcompact\\\\\n",
       "\t new beetle & 2.0        & subcompact\\\\\n",
       "\t new beetle & 2.0        & subcompact\\\\\n",
       "\t passat     & 1.8        & midsize   \\\\\n",
       "\t passat     & 1.8        & midsize   \\\\\n",
       "\t passat     & 2.8        & midsize   \\\\\n",
       "\t passat     & 2.8        & midsize   \\\\\n",
       "\\end{tabular}\n"
      ],
      "text/markdown": [
       "\n",
       "| model | displ | class |\n",
       "|---|---|---|\n",
       "| new beetle | 1.9        | subcompact |\n",
       "| new beetle | 1.9        | subcompact |\n",
       "| new beetle | 2.0        | subcompact |\n",
       "| new beetle | 2.0        | subcompact |\n",
       "| passat     | 1.8        | midsize    |\n",
       "| passat     | 1.8        | midsize    |\n",
       "| passat     | 2.8        | midsize    |\n",
       "| passat     | 2.8        | midsize    |\n",
       "\n"
      ],
      "text/plain": [
       "  model      displ class     \n",
       "1 new beetle 1.9   subcompact\n",
       "2 new beetle 1.9   subcompact\n",
       "3 new beetle 2.0   subcompact\n",
       "4 new beetle 2.0   subcompact\n",
       "5 passat     1.8   midsize   \n",
       "6 passat     1.8   midsize   \n",
       "7 passat     2.8   midsize   \n",
       "8 passat     2.8   midsize   "
      ]
     },
     "metadata": {},
     "output_type": "display_data"
    }
   ],
   "source": [
    "mpg %>% \n",
    "   filter(year == 1999, model %in% c('passat', 'new beetle') ) %>%\n",
    "   select(model, displ, class)"
   ]
  },
  {
   "cell_type": "markdown",
   "metadata": {},
   "source": [
    "#### arrange\n",
    "\n",
    "Reorders the rows according to single or multiple variables\n"
   ]
  },
  {
   "cell_type": "code",
   "execution_count": 34,
   "metadata": {},
   "outputs": [
    {
     "data": {
      "text/html": [
       "<table>\n",
       "<thead><tr><th scope=col>model</th><th scope=col>displ</th><th scope=col>class</th></tr></thead>\n",
       "<tbody>\n",
       "\t<tr><td>passat    </td><td>1.8       </td><td>midsize   </td></tr>\n",
       "\t<tr><td>passat    </td><td>1.8       </td><td>midsize   </td></tr>\n",
       "\t<tr><td>new beetle</td><td>1.9       </td><td>subcompact</td></tr>\n",
       "\t<tr><td>new beetle</td><td>1.9       </td><td>subcompact</td></tr>\n",
       "\t<tr><td>new beetle</td><td>2.0       </td><td>subcompact</td></tr>\n",
       "\t<tr><td>new beetle</td><td>2.0       </td><td>subcompact</td></tr>\n",
       "\t<tr><td>passat    </td><td>2.8       </td><td>midsize   </td></tr>\n",
       "\t<tr><td>passat    </td><td>2.8       </td><td>midsize   </td></tr>\n",
       "</tbody>\n",
       "</table>\n"
      ],
      "text/latex": [
       "\\begin{tabular}{r|lll}\n",
       " model & displ & class\\\\\n",
       "\\hline\n",
       "\t passat     & 1.8        & midsize   \\\\\n",
       "\t passat     & 1.8        & midsize   \\\\\n",
       "\t new beetle & 1.9        & subcompact\\\\\n",
       "\t new beetle & 1.9        & subcompact\\\\\n",
       "\t new beetle & 2.0        & subcompact\\\\\n",
       "\t new beetle & 2.0        & subcompact\\\\\n",
       "\t passat     & 2.8        & midsize   \\\\\n",
       "\t passat     & 2.8        & midsize   \\\\\n",
       "\\end{tabular}\n"
      ],
      "text/markdown": [
       "\n",
       "| model | displ | class |\n",
       "|---|---|---|\n",
       "| passat     | 1.8        | midsize    |\n",
       "| passat     | 1.8        | midsize    |\n",
       "| new beetle | 1.9        | subcompact |\n",
       "| new beetle | 1.9        | subcompact |\n",
       "| new beetle | 2.0        | subcompact |\n",
       "| new beetle | 2.0        | subcompact |\n",
       "| passat     | 2.8        | midsize    |\n",
       "| passat     | 2.8        | midsize    |\n",
       "\n"
      ],
      "text/plain": [
       "  model      displ class     \n",
       "1 passat     1.8   midsize   \n",
       "2 passat     1.8   midsize   \n",
       "3 new beetle 1.9   subcompact\n",
       "4 new beetle 1.9   subcompact\n",
       "5 new beetle 2.0   subcompact\n",
       "6 new beetle 2.0   subcompact\n",
       "7 passat     2.8   midsize   \n",
       "8 passat     2.8   midsize   "
      ]
     },
     "metadata": {},
     "output_type": "display_data"
    }
   ],
   "source": [
    "mpg %>% \n",
    "   filter(year == 1999, model %in% c('passat', 'new beetle') ) %>%\n",
    "   select(model, displ, class) %>%\n",
    "   arrange(displ)"
   ]
  },
  {
   "cell_type": "code",
   "execution_count": 35,
   "metadata": {},
   "outputs": [
    {
     "data": {
      "text/html": [
       "<table>\n",
       "<thead><tr><th scope=col>model</th><th scope=col>displ</th><th scope=col>class</th></tr></thead>\n",
       "<tbody>\n",
       "\t<tr><td>passat    </td><td>2.8       </td><td>midsize   </td></tr>\n",
       "\t<tr><td>passat    </td><td>2.8       </td><td>midsize   </td></tr>\n",
       "\t<tr><td>new beetle</td><td>2.0       </td><td>subcompact</td></tr>\n",
       "\t<tr><td>new beetle</td><td>2.0       </td><td>subcompact</td></tr>\n",
       "\t<tr><td>new beetle</td><td>1.9       </td><td>subcompact</td></tr>\n",
       "\t<tr><td>new beetle</td><td>1.9       </td><td>subcompact</td></tr>\n",
       "\t<tr><td>passat    </td><td>1.8       </td><td>midsize   </td></tr>\n",
       "\t<tr><td>passat    </td><td>1.8       </td><td>midsize   </td></tr>\n",
       "</tbody>\n",
       "</table>\n"
      ],
      "text/latex": [
       "\\begin{tabular}{r|lll}\n",
       " model & displ & class\\\\\n",
       "\\hline\n",
       "\t passat     & 2.8        & midsize   \\\\\n",
       "\t passat     & 2.8        & midsize   \\\\\n",
       "\t new beetle & 2.0        & subcompact\\\\\n",
       "\t new beetle & 2.0        & subcompact\\\\\n",
       "\t new beetle & 1.9        & subcompact\\\\\n",
       "\t new beetle & 1.9        & subcompact\\\\\n",
       "\t passat     & 1.8        & midsize   \\\\\n",
       "\t passat     & 1.8        & midsize   \\\\\n",
       "\\end{tabular}\n"
      ],
      "text/markdown": [
       "\n",
       "| model | displ | class |\n",
       "|---|---|---|\n",
       "| passat     | 2.8        | midsize    |\n",
       "| passat     | 2.8        | midsize    |\n",
       "| new beetle | 2.0        | subcompact |\n",
       "| new beetle | 2.0        | subcompact |\n",
       "| new beetle | 1.9        | subcompact |\n",
       "| new beetle | 1.9        | subcompact |\n",
       "| passat     | 1.8        | midsize    |\n",
       "| passat     | 1.8        | midsize    |\n",
       "\n"
      ],
      "text/plain": [
       "  model      displ class     \n",
       "1 passat     2.8   midsize   \n",
       "2 passat     2.8   midsize   \n",
       "3 new beetle 2.0   subcompact\n",
       "4 new beetle 2.0   subcompact\n",
       "5 new beetle 1.9   subcompact\n",
       "6 new beetle 1.9   subcompact\n",
       "7 passat     1.8   midsize   \n",
       "8 passat     1.8   midsize   "
      ]
     },
     "metadata": {},
     "output_type": "display_data"
    }
   ],
   "source": [
    "mpg %>% \n",
    "   filter(year == 1999, model %in% c('passat', 'new beetle') ) %>%\n",
    "   select(model, displ, class) %>%\n",
    "   arrange(desc(displ))"
   ]
  },
  {
   "cell_type": "markdown",
   "metadata": {},
   "source": [
    "#### mutate\n",
    "\n",
    "Add columns from existing data \n"
   ]
  },
  {
   "cell_type": "code",
   "execution_count": 39,
   "metadata": {},
   "outputs": [
    {
     "data": {
      "text/html": [
       "<table>\n",
       "<thead><tr><th scope=col>model</th><th scope=col>displ</th><th scope=col>class</th><th scope=col>displ10</th><th scope=col>model2</th><th scope=col>ex_missing</th></tr></thead>\n",
       "<tbody>\n",
       "\t<tr><td>passat    </td><td>2.8       </td><td>midsize   </td><td>28        </td><td>p         </td><td>2.8       </td></tr>\n",
       "\t<tr><td>passat    </td><td>2.8       </td><td>midsize   </td><td>28        </td><td>p         </td><td>2.8       </td></tr>\n",
       "\t<tr><td>new beetle</td><td>2.0       </td><td>subcompact</td><td>20        </td><td>nb        </td><td>2.0       </td></tr>\n",
       "\t<tr><td>new beetle</td><td>2.0       </td><td>subcompact</td><td>20        </td><td>nb        </td><td>2.0       </td></tr>\n",
       "\t<tr><td>new beetle</td><td>1.9       </td><td>subcompact</td><td>19        </td><td>nb        </td><td> NA       </td></tr>\n",
       "\t<tr><td>new beetle</td><td>1.9       </td><td>subcompact</td><td>19        </td><td>nb        </td><td> NA       </td></tr>\n",
       "\t<tr><td>passat    </td><td>1.8       </td><td>midsize   </td><td>18        </td><td>p         </td><td> NA       </td></tr>\n",
       "\t<tr><td>passat    </td><td>1.8       </td><td>midsize   </td><td>18        </td><td>p         </td><td> NA       </td></tr>\n",
       "</tbody>\n",
       "</table>\n"
      ],
      "text/latex": [
       "\\begin{tabular}{r|llllll}\n",
       " model & displ & class & displ10 & model2 & ex\\_missing\\\\\n",
       "\\hline\n",
       "\t passat     & 2.8        & midsize    & 28         & p          & 2.8       \\\\\n",
       "\t passat     & 2.8        & midsize    & 28         & p          & 2.8       \\\\\n",
       "\t new beetle & 2.0        & subcompact & 20         & nb         & 2.0       \\\\\n",
       "\t new beetle & 2.0        & subcompact & 20         & nb         & 2.0       \\\\\n",
       "\t new beetle & 1.9        & subcompact & 19         & nb         &  NA       \\\\\n",
       "\t new beetle & 1.9        & subcompact & 19         & nb         &  NA       \\\\\n",
       "\t passat     & 1.8        & midsize    & 18         & p          &  NA       \\\\\n",
       "\t passat     & 1.8        & midsize    & 18         & p          &  NA       \\\\\n",
       "\\end{tabular}\n"
      ],
      "text/markdown": [
       "\n",
       "| model | displ | class | displ10 | model2 | ex_missing |\n",
       "|---|---|---|---|---|---|\n",
       "| passat     | 2.8        | midsize    | 28         | p          | 2.8        |\n",
       "| passat     | 2.8        | midsize    | 28         | p          | 2.8        |\n",
       "| new beetle | 2.0        | subcompact | 20         | nb         | 2.0        |\n",
       "| new beetle | 2.0        | subcompact | 20         | nb         | 2.0        |\n",
       "| new beetle | 1.9        | subcompact | 19         | nb         |  NA        |\n",
       "| new beetle | 1.9        | subcompact | 19         | nb         |  NA        |\n",
       "| passat     | 1.8        | midsize    | 18         | p          |  NA        |\n",
       "| passat     | 1.8        | midsize    | 18         | p          |  NA        |\n",
       "\n"
      ],
      "text/plain": [
       "  model      displ class      displ10 model2 ex_missing\n",
       "1 passat     2.8   midsize    28      p      2.8       \n",
       "2 passat     2.8   midsize    28      p      2.8       \n",
       "3 new beetle 2.0   subcompact 20      nb     2.0       \n",
       "4 new beetle 2.0   subcompact 20      nb     2.0       \n",
       "5 new beetle 1.9   subcompact 19      nb      NA       \n",
       "6 new beetle 1.9   subcompact 19      nb      NA       \n",
       "7 passat     1.8   midsize    18      p       NA       \n",
       "8 passat     1.8   midsize    18      p       NA       "
      ]
     },
     "metadata": {},
     "output_type": "display_data"
    }
   ],
   "source": [
    "mpg %>% \n",
    "   filter(year == 1999, model %in% c('passat', 'new beetle') ) %>%\n",
    "   select(model, displ, class) %>%\n",
    "   arrange(desc(displ)) %>%\n",
    "   mutate(displ10 = displ*10,\n",
    "         model2 = car::recode(model, \"'passat'='p'; 'new beetle'='nb' \"),\n",
    "         ex_missing = car::recode(displ, \"2.0 = '20'; 2.8 = '28'; else = NA\"))"
   ]
  },
  {
   "cell_type": "code",
   "execution_count": 48,
   "metadata": {},
   "outputs": [
    {
     "data": {
      "text/html": [
       "<table>\n",
       "<thead><tr><th scope=col>model</th><th scope=col>displ</th><th scope=col>class</th><th scope=col>displ10</th><th scope=col>model2</th><th scope=col>ex_missing</th></tr></thead>\n",
       "<tbody>\n",
       "\t<tr><td>passat    </td><td>2.8       </td><td>midsize   </td><td>28        </td><td>p         </td><td>28        </td></tr>\n",
       "\t<tr><td>passat    </td><td>2.8       </td><td>midsize   </td><td>28        </td><td>p         </td><td>28        </td></tr>\n",
       "\t<tr><td>new beetle</td><td>2.0       </td><td>subcompact</td><td>20        </td><td>nb        </td><td>20        </td></tr>\n",
       "\t<tr><td>new beetle</td><td>2.0       </td><td>subcompact</td><td>20        </td><td>nb        </td><td>20        </td></tr>\n",
       "\t<tr><td>new beetle</td><td>1.9       </td><td>subcompact</td><td>19        </td><td>nb        </td><td>(Missing) </td></tr>\n",
       "\t<tr><td>new beetle</td><td>1.9       </td><td>subcompact</td><td>19        </td><td>nb        </td><td>(Missing) </td></tr>\n",
       "\t<tr><td>passat    </td><td>1.8       </td><td>midsize   </td><td>18        </td><td>p         </td><td>(Missing) </td></tr>\n",
       "\t<tr><td>passat    </td><td>1.8       </td><td>midsize   </td><td>18        </td><td>p         </td><td>(Missing) </td></tr>\n",
       "</tbody>\n",
       "</table>\n"
      ],
      "text/latex": [
       "\\begin{tabular}{r|llllll}\n",
       " model & displ & class & displ10 & model2 & ex\\_missing\\\\\n",
       "\\hline\n",
       "\t passat     & 2.8        & midsize    & 28         & p          & 28        \\\\\n",
       "\t passat     & 2.8        & midsize    & 28         & p          & 28        \\\\\n",
       "\t new beetle & 2.0        & subcompact & 20         & nb         & 20        \\\\\n",
       "\t new beetle & 2.0        & subcompact & 20         & nb         & 20        \\\\\n",
       "\t new beetle & 1.9        & subcompact & 19         & nb         & (Missing) \\\\\n",
       "\t new beetle & 1.9        & subcompact & 19         & nb         & (Missing) \\\\\n",
       "\t passat     & 1.8        & midsize    & 18         & p          & (Missing) \\\\\n",
       "\t passat     & 1.8        & midsize    & 18         & p          & (Missing) \\\\\n",
       "\\end{tabular}\n"
      ],
      "text/markdown": [
       "\n",
       "| model | displ | class | displ10 | model2 | ex_missing |\n",
       "|---|---|---|---|---|---|\n",
       "| passat     | 2.8        | midsize    | 28         | p          | 28         |\n",
       "| passat     | 2.8        | midsize    | 28         | p          | 28         |\n",
       "| new beetle | 2.0        | subcompact | 20         | nb         | 20         |\n",
       "| new beetle | 2.0        | subcompact | 20         | nb         | 20         |\n",
       "| new beetle | 1.9        | subcompact | 19         | nb         | (Missing)  |\n",
       "| new beetle | 1.9        | subcompact | 19         | nb         | (Missing)  |\n",
       "| passat     | 1.8        | midsize    | 18         | p          | (Missing)  |\n",
       "| passat     | 1.8        | midsize    | 18         | p          | (Missing)  |\n",
       "\n"
      ],
      "text/plain": [
       "  model      displ class      displ10 model2 ex_missing\n",
       "1 passat     2.8   midsize    28      p      28        \n",
       "2 passat     2.8   midsize    28      p      28        \n",
       "3 new beetle 2.0   subcompact 20      nb     20        \n",
       "4 new beetle 2.0   subcompact 20      nb     20        \n",
       "5 new beetle 1.9   subcompact 19      nb     (Missing) \n",
       "6 new beetle 1.9   subcompact 19      nb     (Missing) \n",
       "7 passat     1.8   midsize    18      p      (Missing) \n",
       "8 passat     1.8   midsize    18      p      (Missing) "
      ]
     },
     "metadata": {},
     "output_type": "display_data"
    }
   ],
   "source": [
    "mpg %>% \n",
    "   filter(year == 1999, model %in% c('passat', 'new beetle') ) %>%\n",
    "   select(model, displ, class) %>%\n",
    "   arrange(desc(displ)) %>%\n",
    "   mutate(displ10 = displ*10,\n",
    "          model2 = car::recode(model, \"'passat'='p'; 'new beetle'='nb' \"),\n",
    "          ex_missing = car::recode(displ, \"2.0 = '20'; 2.8 = '28'; else = NA\"),\n",
    "          ex_missing = factor(ex_missing, levels = c(\"28\", \"20\")),\n",
    "          ex_missing = fct_explicit_na(ex_missing) \n",
    "          )"
   ]
  },
  {
   "cell_type": "markdown",
   "metadata": {},
   "source": [
    "#### summarize\n",
    "\n",
    "Produce summary statistic for each group (using group_by() ) \n"
   ]
  },
  {
   "cell_type": "code",
   "execution_count": 50,
   "metadata": {},
   "outputs": [
    {
     "data": {
      "text/html": [
       "<table>\n",
       "<thead><tr><th scope=col>model</th><th scope=col>n</th><th scope=col>mean_displ</th><th scope=col>sd_displ</th></tr></thead>\n",
       "<tbody>\n",
       "\t<tr><td>new beetle</td><td>4         </td><td>1.95      </td><td>0.05773503</td></tr>\n",
       "\t<tr><td>passat    </td><td>4         </td><td>2.30      </td><td>0.57735027</td></tr>\n",
       "</tbody>\n",
       "</table>\n"
      ],
      "text/latex": [
       "\\begin{tabular}{r|llll}\n",
       " model & n & mean\\_displ & sd\\_displ\\\\\n",
       "\\hline\n",
       "\t new beetle & 4          & 1.95       & 0.05773503\\\\\n",
       "\t passat     & 4          & 2.30       & 0.57735027\\\\\n",
       "\\end{tabular}\n"
      ],
      "text/markdown": [
       "\n",
       "| model | n | mean_displ | sd_displ |\n",
       "|---|---|---|---|\n",
       "| new beetle | 4          | 1.95       | 0.05773503 |\n",
       "| passat     | 4          | 2.30       | 0.57735027 |\n",
       "\n"
      ],
      "text/plain": [
       "  model      n mean_displ sd_displ  \n",
       "1 new beetle 4 1.95       0.05773503\n",
       "2 passat     4 2.30       0.57735027"
      ]
     },
     "metadata": {},
     "output_type": "display_data"
    }
   ],
   "source": [
    "mpg %>% \n",
    "   filter(year == 1999, model %in% c('passat', 'new beetle') ) %>%\n",
    "   select(model, displ, class) %>%\n",
    "   arrange(desc(displ)) %>%\n",
    "   mutate(displ10 = displ*10,\n",
    "          model2 = car::recode(model, \"'passat'='p'; 'new beetle'='nb' \"),\n",
    "          ex_missing = car::recode(displ, \"2.0 = '20'; 2.8 = '28'; else = NA\"),\n",
    "          ex_missing = factor(ex_missing, levels = c(\"28\", \"20\")),\n",
    "          ex_missing = fct_explicit_na(ex_missing) \n",
    "          ) %>% \n",
    "   group_by(model) %>%          \n",
    "   summarize( n = n(),\n",
    "            mean_displ = mean(displ), \n",
    "            sd_displ = sd(displ))\n",
    "       "
   ]
  },
  {
   "cell_type": "markdown",
   "metadata": {},
   "source": [
    "#### ggplot followed by dyplyr manipulation"
   ]
  },
  {
   "cell_type": "code",
   "execution_count": 59,
   "metadata": {},
   "outputs": [
    {
     "data": {
      "image/png": "[encoded data removed]",
      "text/plain": [
       "plot without title"
      ]
     },
     "metadata": {},
     "output_type": "display_data"
    }
   ],
   "source": [
    "mpg %>% \n",
    "   filter(year == 1999, model %in% c('passat', 'new beetle') ) %>%\n",
    "   select(model, displ, class) %>%\n",
    "   arrange(desc(displ)) %>%\n",
    "   mutate(displ10 = displ*10,\n",
    "          model2 = car::recode(model, \"'passat'='p'; 'new beetle'='nb' \"),\n",
    "          ex_missing = car::recode(displ, \"2.0 = '20'; 2.8 = '28'; else = NA\"),\n",
    "          ex_missing = factor(ex_missing, levels = c(\"28\", \"20\")),\n",
    "          ex_missing = fct_explicit_na(ex_missing) \n",
    "          ) %>% \n",
    "   group_by(model) %>%          \n",
    "   summarize( n = n(),\n",
    "            mean_displ = mean(displ), \n",
    "            sd_displ = sd(displ)) %>% \n",
    "   ggplot(aes(x = model, y = mean_displ )) + \n",
    "   geom_bar(stat = \"identity\") +\n",
    "   geom_errorbar(aes(ymin=mean_displ-sd_displ, ymax=mean_displ+sd_displ), width=.2) +\n",
    "   theme_bw() + \n",
    "   theme( text = element_text(size = 25) ) + \n",
    "   xlab('Model') + \n",
    "   ylab('Displ')"
   ]
  },
  {
   "cell_type": "code",
   "execution_count": null,
   "metadata": {},
   "outputs": [],
   "source": []
  },
  {
   "cell_type": "code",
   "execution_count": null,
   "metadata": {},
   "outputs": [],
   "source": []
  }
 ],
 "metadata": {
  "kernelspec": {
   "display_name": "R",
   "language": "R",
   "name": "ir"
  },
  "language_info": {
   "codemirror_mode": "r",
   "file_extension": ".r",
   "mimetype": "text/x-r-source",
   "name": "R",
   "pygments_lexer": "r",
   "version": "3.6.1"
  }
 },
 "nbformat": 4,
 "nbformat_minor": 2
}
