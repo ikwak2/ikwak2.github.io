{
  "nbformat": 4,
  "nbformat_minor": 0,
  "metadata": {
    "kernelspec": {
      "display_name": "Python 3",
      "language": "python",
      "name": "python3"
    },
    "language_info": {
      "codemirror_mode": {
        "name": "ipython",
        "version": 3
      },
      "file_extension": ".py",
      "mimetype": "text/x-python",
      "name": "python",
      "nbconvert_exporter": "python",
      "pygments_lexer": "ipython3",
      "version": "3.6.5"
    },
    "colab": {
      "name": "exam.ipynb",
      "provenance": [],
      "collapsed_sections": [],
      "include_colab_link": true
    },
    "accelerator": "GPU"
  },
  "cells": [
    {
      "cell_type": "markdown",
      "metadata": {
        "id": "view-in-github",
        "colab_type": "text"
      },
      "source": [
        "<a href=\"https://colab.research.google.com/github/ikwak2/ikwak2.github.io/blob/master/exam.ipynb\" target=\"_parent\"><img src=\"https://colab.research.google.com/assets/colab-badge.svg\" alt=\"Open In Colab\"/></a>"
      ]
    },
    {
      "cell_type": "markdown",
      "metadata": {
        "id": "ZPi3ACwumNQV"
      },
      "source": [
        "# 석사 논문 자격시험 (파이썬을 이용한 딥러닝)\n",
        "\n",
        "- 이름:  \n",
        "- 학번:  \n",
        "\n",
        "------------------------------------------\n",
        "\n",
        "\n",
        "다음은 mnist 데이터를 활용한 CNN 모형에 관련된 문제입니다. 코드를 완성해주세요.\n"
      ]
    },
    {
      "cell_type": "code",
      "metadata": {
        "id": "-6p6VRmTmAPZ",
        "colab": {
          "base_uri": "https://localhost:8080/",
          "height": 35
        },
        "outputId": "be758e85-3eb2-4cc1-ede4-93739fd02427"
      },
      "source": [
        "import tensorflow\n",
        "tensorflow.keras.__version__"
      ],
      "execution_count": null,
      "outputs": [
        {
          "output_type": "execute_result",
          "data": {
            "application/vnd.google.colaboratory.intrinsic+json": {
              "type": "string"
            },
            "text/plain": [
              "'2.4.0'"
            ]
          },
          "metadata": {
            "tags": []
          },
          "execution_count": 1
        }
      ]
    },
    {
      "cell_type": "markdown",
      "metadata": {
        "id": "APqepHCVmnbd"
      },
      "source": [
        "데이터 읽어오기."
      ]
    },
    {
      "cell_type": "code",
      "metadata": {
        "id": "g2lNQsZzmLsE"
      },
      "source": [
        "from tensorflow.keras.datasets import mnist\n",
        "from tensorflow.keras.utils import to_categorical\n",
        "\n",
        "(train_images, train_labels), (test_images, test_labels) = mnist.load_data()"
      ],
      "execution_count": null,
      "outputs": []
    },
    {
      "cell_type": "code",
      "metadata": {
        "id": "PPjcbZB6ow4L"
      },
      "source": [
        "train_images = train_images.reshape((60000, 28, 28, 1))\n",
        "train_images = train_images.astype('float32') / 255\n",
        "\n",
        "test_images = test_images.reshape((10000, 28, 28, 1))\n",
        "test_images = test_images.astype('float32') / 255\n",
        "\n",
        "train_labels = to_categorical(train_labels)\n",
        "test_labels = to_categorical(test_labels)"
      ],
      "execution_count": null,
      "outputs": []
    },
    {
      "cell_type": "markdown",
      "metadata": {
        "id": "YmECe4jhmqgW"
      },
      "source": [
        "(1) [30점] 아래의 내용을 만족하는 CNN을 작성해 봅시다. \n",
        " - 3개 층의 CNN layer 를 사용해서 모형을 작성해 보세요(필터갯수, 커널 크기, padding 방식, stride, activation 함수는 모형이 정의되는 한도 내에서 자유롭게 정의 가능). \n",
        " - 각 CNN layer 뒤에 (2,2)의 max pooling layer 도 포함시켜주세요. \n",
        " - 3개 층의 CNN layer 를 통과한 결과를 Flatten 시켜서 1개 층의 Dense layer 를 사용해 모형을 만들어 보세요.\n",
        " - "
      ]
    },
    {
      "cell_type": "code",
      "metadata": {
        "id": "Gnq4bd9AmLkk"
      },
      "source": [
        "\n",
        "from tensorflow.keras import layers\n",
        "from tensorflow.keras import models\n",
        "\n",
        "model = models.Sequential()\n",
        "### Define your model here\n"
      ],
      "execution_count": null,
      "outputs": []
    },
    {
      "cell_type": "code",
      "metadata": {
        "id": "ev3yN7tGa85d"
      },
      "source": [
        "model.summary()"
      ],
      "execution_count": null,
      "outputs": []
    },
    {
      "cell_type": "markdown",
      "metadata": {
        "id": "XDJo_v85nDUU"
      },
      "source": [
        "(2) [20점] 아래와 같이 모형을 컴파일하고 훈련을 수행해보세요.  \n",
        " - optimizer 로는 Adam optimizer 사용\n",
        " - loss는 categorical cross entropy를 사용\n",
        " - 모형 평가 metric 으로 accuracy를 사용\n",
        " - 훈련에 있어서 epoch=5, batch size 는 32를 사용 "
      ]
    },
    {
      "cell_type": "code",
      "metadata": {
        "id": "5bZ68LXLxMeJ"
      },
      "source": [
        "## compile your model with model.compile()\n",
        "\n",
        "\n",
        "## fit your model with model.fit()\n"
      ],
      "execution_count": null,
      "outputs": []
    },
    {
      "cell_type": "markdown",
      "metadata": {
        "id": "khIuXwIMtU_i"
      },
      "source": [
        "테스트 정확도를 출력해보면 아래와 같습니다. "
      ]
    },
    {
      "cell_type": "code",
      "metadata": {
        "id": "wFIQwgMhtKnU",
        "colab": {
          "base_uri": "https://localhost:8080/"
        },
        "outputId": "55645d9d-36cc-4d96-eace-5aadd20cd8cf"
      },
      "source": [
        "test_loss, test_acc = model.evaluate(test_images, test_labels)\n",
        "test_acc"
      ],
      "execution_count": null,
      "outputs": [
        {
          "output_type": "stream",
          "text": [
            "313/313 [==============================] - 1s 2ms/step - loss: 0.0551 - accuracy: 0.9834\n"
          ],
          "name": "stdout"
        },
        {
          "output_type": "execute_result",
          "data": {
            "text/plain": [
              "0.9833999872207642"
            ]
          },
          "metadata": {
            "tags": []
          },
          "execution_count": 12
        }
      ]
    },
    {
      "cell_type": "markdown",
      "metadata": {
        "id": "UW4h8v4fvl6h"
      },
      "source": [
        "![image.png](data:image/png;base64,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)"
      ]
    },
    {
      "cell_type": "markdown",
      "metadata": {
        "id": "smQCBDL4tZvY"
      },
      "source": [
        "(3) [30점] ResNet의 Residual connection 구조를 정의하고 모형에 적용해 보세요. (그림 7.5 참고) \n",
        "- 추천하는 방법: residual connection block을 함수로 짠 후, residual connection block을 3번 호출 (residual connection 의 큰 그림만 반영 된다면 세부 파라메터들은 임의로 설정해도 무방함)"
      ]
    },
    {
      "cell_type": "code",
      "metadata": {
        "id": "7EUMFG-dmLWE"
      },
      "source": [
        "## model here\n",
        "\n",
        "from tensorflow.keras import layers\n",
        "from tensorflow.keras import models\n",
        "\n",
        "model = models.Sequential()\n",
        "### Define your model here\n",
        "\n"
      ],
      "execution_count": null,
      "outputs": []
    },
    {
      "cell_type": "code",
      "metadata": {
        "id": "aYrGgzpDtl5B"
      },
      "source": [
        "## compile your model with model.compile()\n",
        "\n",
        "\n",
        "## fit your model with model.fit()\n"
      ],
      "execution_count": null,
      "outputs": []
    },
    {
      "cell_type": "code",
      "metadata": {
        "id": "iTkjhgKXtlxw"
      },
      "source": [
        "# Test accuracy\n",
        "\n",
        "test_loss, test_acc = model.evaluate(test_images, test_labels)\n",
        "test_acc"
      ],
      "execution_count": null,
      "outputs": []
    },
    {
      "cell_type": "code",
      "metadata": {
        "id": "JLhCHj-0tloo"
      },
      "source": [
        ""
      ],
      "execution_count": null,
      "outputs": []
    },
    {
      "cell_type": "markdown",
      "metadata": {
        "id": "q60kSv0_wrX5"
      },
      "source": [
        "(4) [20점] 여러분이 임의의 모형을 만들어서 성능을 확인해 보세요. "
      ]
    },
    {
      "cell_type": "code",
      "metadata": {
        "id": "DCbroIFimLNk"
      },
      "source": [
        ""
      ],
      "execution_count": null,
      "outputs": []
    }
  ]
}